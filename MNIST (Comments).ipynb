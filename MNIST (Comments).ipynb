{
 "cells": [
  {
   "cell_type": "code",
   "execution_count": 1,
   "metadata": {
    "colab": {
     "base_uri": "https://localhost:8080/"
    },
    "id": "jVKxIgmxlBdX",
    "outputId": "0be102b8-b239-4daa-e0ba-1069f6afedb2"
   },
   "outputs": [
    {
     "name": "stderr",
     "output_type": "stream",
     "text": [
      "2022-11-09 09:55:27.913832: I tensorflow/core/platform/cpu_feature_guard.cc:193] This TensorFlow binary is optimized with oneAPI Deep Neural Network Library (oneDNN) to use the following CPU instructions in performance-critical operations:  AVX2 FMA\n",
      "To enable them in other operations, rebuild TensorFlow with the appropriate compiler flags.\n",
      "2022-11-09 09:55:28.311027: W tensorflow/stream_executor/platform/default/dso_loader.cc:64] Could not load dynamic library 'libcudart.so.11.0'; dlerror: libcudart.so.11.0: cannot open shared object file: No such file or directory\n",
      "2022-11-09 09:55:28.311047: I tensorflow/stream_executor/cuda/cudart_stub.cc:29] Ignore above cudart dlerror if you do not have a GPU set up on your machine.\n",
      "2022-11-09 09:55:28.359947: E tensorflow/stream_executor/cuda/cuda_blas.cc:2981] Unable to register cuBLAS factory: Attempting to register factory for plugin cuBLAS when one has already been registered\n",
      "2022-11-09 09:55:30.280368: W tensorflow/stream_executor/platform/default/dso_loader.cc:64] Could not load dynamic library 'libnvinfer.so.7'; dlerror: libnvinfer.so.7: cannot open shared object file: No such file or directory\n",
      "2022-11-09 09:55:30.280774: W tensorflow/stream_executor/platform/default/dso_loader.cc:64] Could not load dynamic library 'libnvinfer_plugin.so.7'; dlerror: libnvinfer_plugin.so.7: cannot open shared object file: No such file or directory\n",
      "2022-11-09 09:55:30.280784: W tensorflow/compiler/tf2tensorrt/utils/py_utils.cc:38] TF-TRT Warning: Cannot dlopen some TensorRT libraries. If you would like to use Nvidia GPU with TensorRT, please make sure the missing libraries mentioned above are installed properly.\n"
     ]
    },
    {
     "name": "stdout",
     "output_type": "stream",
     "text": [
      "[5 0 4 ... 5 6 8]\n"
     ]
    }
   ],
   "source": [
    "import tensorflow as tf\n",
    "import matplotlib.pyplot as plt\n",
    "import numpy as np\n",
    "import os\n",
    "from PIL import Image, ImageOps\n",
    "\n",
    "mnist = tf.keras.datasets.mnist # Taking a dataset that is already preinstalled\n",
    "\n",
    "# x_train holds all the data, y_train holds all teh labels of the data\n",
    "(x_train, y_train), (x_test, y_test) = mnist.load_data()\n",
    "# Normalizing the RGB codes by dividing it to the max RGB value.\n",
    "x_train, x_test = x_train / 255.0, x_test / 255.0 # Scaling the data, so it improves the accuracy of the machine learning model\n",
    "# Talk about the test data set\n",
    "print(y_train)"
   ]
  },
  {
   "cell_type": "code",
   "execution_count": 6,
   "outputs": [
    {
     "name": "stdout",
     "output_type": "stream",
     "text": [
      "[PhysicalDevice(name='/physical_device:GPU:0', device_type='GPU')]\n"
     ]
    }
   ],
   "source": [
    "os.chdir(r\"C:\\Users\\Kevin Tang\\Documents\\TensorFlow\")\n",
    "!python -c \"import tensorflow as tf; print(tf.config.list_physical_devices('GPU'))\""
   ],
   "metadata": {
    "collapsed": false
   }
  },
  {
   "cell_type": "code",
   "execution_count": 2,
   "metadata": {
    "colab": {
     "base_uri": "https://localhost:8080/"
    },
    "id": "PRINJuQMleLQ",
    "outputId": "1964fe24-644e-46e0-cae7-af397d263edd"
   },
   "outputs": [
    {
     "data": {
      "text/plain": "(10000, 28, 28)"
     },
     "execution_count": 2,
     "metadata": {},
     "output_type": "execute_result"
    }
   ],
   "source": [
    "x_train.shape\n",
    "x_test.shape"
   ]
  },
  {
   "cell_type": "code",
   "execution_count": 3,
   "metadata": {
    "colab": {
     "base_uri": "https://localhost:8080/"
    },
    "id": "9K8lhRbIuqaL",
    "outputId": "7a51521b-17b0-48aa-a12a-b47a11d57c3e"
   },
   "outputs": [
    {
     "data": {
      "text/plain": [
       "(10000,)"
      ]
     },
     "execution_count": 3,
     "metadata": {},
     "output_type": "execute_result"
    }
   ],
   "source": [
    "y_train.shape\n",
    "y_test.shape"
   ]
  },
  {
   "cell_type": "code",
   "execution_count": 4,
   "metadata": {
    "colab": {
     "base_uri": "https://localhost:8080/"
    },
    "id": "dzp-siGxvhwT",
    "outputId": "4613b9d5-ae15-4df1-dcd0-a4d3e2471c15"
   },
   "outputs": [
    {
     "data": {
      "text/plain": [
       "(10000,)"
      ]
     },
     "execution_count": 4,
     "metadata": {},
     "output_type": "execute_result"
    }
   ],
   "source": [
    "y_test\n",
    "y_test.shape\n"
   ]
  },
  {
   "cell_type": "code",
   "execution_count": 71,
   "metadata": {
    "colab": {
     "base_uri": "https://localhost:8080/"
    },
    "id": "9urWauNtwsFJ",
    "outputId": "d7c83af0-3793-46f4-e567-b868b2fe5563"
   },
   "outputs": [
    {
     "name": "stdout",
     "output_type": "stream",
     "text": [
      "[[0.         0.         0.         0.         0.         0.\n",
      "  0.         0.         0.         0.         0.         0.\n",
      "  0.         0.         0.         0.         0.         0.\n",
      "  0.         0.         0.         0.         0.         0.\n",
      "  0.         0.         0.         0.        ]\n",
      " [0.         0.         0.         0.         0.         0.\n",
      "  0.         0.         0.         0.         0.         0.\n",
      "  0.         0.         0.         0.         0.         0.\n",
      "  0.         0.         0.         0.         0.         0.\n",
      "  0.         0.         0.         0.        ]\n",
      " [0.         0.         0.         0.         0.         0.\n",
      "  0.         0.         0.         0.         0.         0.\n",
      "  0.         0.         0.         0.         0.         0.\n",
      "  0.         0.         0.         0.         0.         0.\n",
      "  0.         0.         0.         0.        ]\n",
      " [0.         0.         0.         0.         0.         0.\n",
      "  0.         0.         0.         0.         0.         0.\n",
      "  0.         0.         0.         0.         0.         0.\n",
      "  0.         0.         0.         0.         0.         0.\n",
      "  0.         0.         0.         0.        ]\n",
      " [0.         0.         0.         0.         0.         0.\n",
      "  0.         0.         0.         0.         0.         0.\n",
      "  0.         0.         0.         0.         0.         0.\n",
      "  0.         0.         0.         0.         0.         0.\n",
      "  0.         0.         0.         0.        ]\n",
      " [0.         0.         0.         0.         0.         0.\n",
      "  0.         0.         0.         0.         0.         0.\n",
      "  0.01176471 0.07058824 0.07058824 0.07058824 0.49411765 0.53333333\n",
      "  0.68627451 0.10196078 0.65098039 1.         0.96862745 0.49803922\n",
      "  0.         0.         0.         0.        ]\n",
      " [0.         0.         0.         0.         0.         0.\n",
      "  0.         0.         0.11764706 0.14117647 0.36862745 0.60392157\n",
      "  0.66666667 0.99215686 0.99215686 0.99215686 0.99215686 0.99215686\n",
      "  0.88235294 0.6745098  0.99215686 0.94901961 0.76470588 0.25098039\n",
      "  0.         0.         0.         0.        ]\n",
      " [0.         0.         0.         0.         0.         0.\n",
      "  0.         0.19215686 0.93333333 0.99215686 0.99215686 0.99215686\n",
      "  0.99215686 0.99215686 0.99215686 0.99215686 0.99215686 0.98431373\n",
      "  0.36470588 0.32156863 0.32156863 0.21960784 0.15294118 0.\n",
      "  0.         0.         0.         0.        ]\n",
      " [0.         0.         0.         0.         0.         0.\n",
      "  0.         0.07058824 0.85882353 0.99215686 0.99215686 0.99215686\n",
      "  0.99215686 0.99215686 0.77647059 0.71372549 0.96862745 0.94509804\n",
      "  0.         0.         0.         0.         0.         0.\n",
      "  0.         0.         0.         0.        ]\n",
      " [0.         0.         0.         0.         0.         0.\n",
      "  0.         0.         0.31372549 0.61176471 0.41960784 0.99215686\n",
      "  0.99215686 0.80392157 0.04313725 0.         0.16862745 0.60392157\n",
      "  0.         0.         0.         0.         0.         0.\n",
      "  0.         0.         0.         0.        ]\n",
      " [0.         0.         0.         0.         0.         0.\n",
      "  0.         0.         0.         0.05490196 0.00392157 0.60392157\n",
      "  0.99215686 0.35294118 0.         0.         0.         0.\n",
      "  0.         0.         0.         0.         0.         0.\n",
      "  0.         0.         0.         0.        ]\n",
      " [0.         0.         0.         0.         0.         0.\n",
      "  0.         0.         0.         0.         0.         0.54509804\n",
      "  0.99215686 0.74509804 0.00784314 0.         0.         0.\n",
      "  0.         0.         0.         0.         0.         0.\n",
      "  0.         0.         0.         0.        ]\n",
      " [0.         0.         0.         0.         0.         0.\n",
      "  0.         0.         0.         0.         0.         0.04313725\n",
      "  0.74509804 0.99215686 0.2745098  0.         0.         0.\n",
      "  0.         0.         0.         0.         0.         0.\n",
      "  0.         0.         0.         0.        ]\n",
      " [0.         0.         0.         0.         0.         0.\n",
      "  0.         0.         0.         0.         0.         0.\n",
      "  0.1372549  0.94509804 0.88235294 0.62745098 0.42352941 0.00392157\n",
      "  0.         0.         0.         0.         0.         0.\n",
      "  0.         0.         0.         0.        ]\n",
      " [0.         0.         0.         0.         0.         0.\n",
      "  0.         0.         0.         0.         0.         0.\n",
      "  0.         0.31764706 0.94117647 0.99215686 0.99215686 0.46666667\n",
      "  0.09803922 0.         0.         0.         0.         0.\n",
      "  0.         0.         0.         0.        ]\n",
      " [0.         0.         0.         0.         0.         0.\n",
      "  0.         0.         0.         0.         0.         0.\n",
      "  0.         0.         0.17647059 0.72941176 0.99215686 0.99215686\n",
      "  0.58823529 0.10588235 0.         0.         0.         0.\n",
      "  0.         0.         0.         0.        ]\n",
      " [0.         0.         0.         0.         0.         0.\n",
      "  0.         0.         0.         0.         0.         0.\n",
      "  0.         0.         0.         0.0627451  0.36470588 0.98823529\n",
      "  0.99215686 0.73333333 0.         0.         0.         0.\n",
      "  0.         0.         0.         0.        ]\n",
      " [0.         0.         0.         0.         0.         0.\n",
      "  0.         0.         0.         0.         0.         0.\n",
      "  0.         0.         0.         0.         0.         0.97647059\n",
      "  0.99215686 0.97647059 0.25098039 0.         0.         0.\n",
      "  0.         0.         0.         0.        ]\n",
      " [0.         0.         0.         0.         0.         0.\n",
      "  0.         0.         0.         0.         0.         0.\n",
      "  0.         0.         0.18039216 0.50980392 0.71764706 0.99215686\n",
      "  0.99215686 0.81176471 0.00784314 0.         0.         0.\n",
      "  0.         0.         0.         0.        ]\n",
      " [0.         0.         0.         0.         0.         0.\n",
      "  0.         0.         0.         0.         0.         0.\n",
      "  0.15294118 0.58039216 0.89803922 0.99215686 0.99215686 0.99215686\n",
      "  0.98039216 0.71372549 0.         0.         0.         0.\n",
      "  0.         0.         0.         0.        ]\n",
      " [0.         0.         0.         0.         0.         0.\n",
      "  0.         0.         0.         0.         0.09411765 0.44705882\n",
      "  0.86666667 0.99215686 0.99215686 0.99215686 0.99215686 0.78823529\n",
      "  0.30588235 0.         0.         0.         0.         0.\n",
      "  0.         0.         0.         0.        ]\n",
      " [0.         0.         0.         0.         0.         0.\n",
      "  0.         0.         0.09019608 0.25882353 0.83529412 0.99215686\n",
      "  0.99215686 0.99215686 0.99215686 0.77647059 0.31764706 0.00784314\n",
      "  0.         0.         0.         0.         0.         0.\n",
      "  0.         0.         0.         0.        ]\n",
      " [0.         0.         0.         0.         0.         0.\n",
      "  0.07058824 0.67058824 0.85882353 0.99215686 0.99215686 0.99215686\n",
      "  0.99215686 0.76470588 0.31372549 0.03529412 0.         0.\n",
      "  0.         0.         0.         0.         0.         0.\n",
      "  0.         0.         0.         0.        ]\n",
      " [0.         0.         0.         0.         0.21568627 0.6745098\n",
      "  0.88627451 0.99215686 0.99215686 0.99215686 0.99215686 0.95686275\n",
      "  0.52156863 0.04313725 0.         0.         0.         0.\n",
      "  0.         0.         0.         0.         0.         0.\n",
      "  0.         0.         0.         0.        ]\n",
      " [0.         0.         0.         0.         0.53333333 0.99215686\n",
      "  0.99215686 0.99215686 0.83137255 0.52941176 0.51764706 0.0627451\n",
      "  0.         0.         0.         0.         0.         0.\n",
      "  0.         0.         0.         0.         0.         0.\n",
      "  0.         0.         0.         0.        ]\n",
      " [0.         0.         0.         0.         0.         0.\n",
      "  0.         0.         0.         0.         0.         0.\n",
      "  0.         0.         0.         0.         0.         0.\n",
      "  0.         0.         0.         0.         0.         0.\n",
      "  0.         0.         0.         0.        ]\n",
      " [0.         0.         0.         0.         0.         0.\n",
      "  0.         0.         0.         0.         0.         0.\n",
      "  0.         0.         0.         0.         0.         0.\n",
      "  0.         0.         0.         0.         0.         0.\n",
      "  0.         0.         0.         0.        ]\n",
      " [0.         0.         0.         0.         0.         0.\n",
      "  0.         0.         0.         0.         0.         0.\n",
      "  0.         0.         0.         0.         0.         0.\n",
      "  0.         0.         0.         0.         0.         0.\n",
      "  0.         0.         0.         0.        ]]\n"
     ]
    },
    {
     "data": {
      "text/plain": "(28, 28)"
     },
     "execution_count": 71,
     "metadata": {},
     "output_type": "execute_result"
    }
   ],
   "source": [
    "first_pic = x_train[0]\n",
    "print(first_pic)\n",
    "first_pic.shape"
   ]
  },
  {
   "cell_type": "code",
   "execution_count": 6,
   "metadata": {
    "colab": {
     "base_uri": "https://localhost:8080/"
    },
    "id": "edLovntlw9MG",
    "outputId": "58ace031-44d1-41d0-f566-4584090612fc"
   },
   "outputs": [
    {
     "data": {
      "text/plain": [
       "1.0"
      ]
     },
     "execution_count": 6,
     "metadata": {},
     "output_type": "execute_result"
    }
   ],
   "source": [
    "first_pic.max()"
   ]
  },
  {
   "cell_type": "code",
   "execution_count": 2,
   "outputs": [
    {
     "name": "stdout",
     "output_type": "stream",
     "text": [
      "[[[1 2 3 4]\n",
      "  [5 6 7 8]]]\n"
     ]
    },
    {
     "data": {
      "text/plain": "(1, 2, 4)"
     },
     "execution_count": 2,
     "metadata": {},
     "output_type": "execute_result"
    }
   ],
   "source": [
    "a = np.array([[[1,2,3,4], [5,6,7,8]]])\n",
    "print(a)\n",
    "# Checking number of elements in each dimensions\n",
    "a.shape"
   ],
   "metadata": {
    "collapsed": false
   }
  },
  {
   "cell_type": "code",
   "execution_count": 3,
   "metadata": {
    "colab": {
     "base_uri": "https://localhost:8080/"
    },
    "id": "JYO8XijBsUWg",
    "outputId": "b75978c1-dd83-4762-b436-5b486cb52028"
   },
   "outputs": [
    {
     "data": {
      "text/plain": "3"
     },
     "execution_count": 3,
     "metadata": {},
     "output_type": "execute_result"
    }
   ],
   "source": [
    "# Checks dimensions\n",
    "a.ndim"
   ]
  },
  {
   "cell_type": "code",
   "execution_count": 6,
   "metadata": {
    "colab": {
     "base_uri": "https://localhost:8080/",
     "height": 178
    },
    "id": "RXHYwI98yngg",
    "outputId": "13ff0bd6-7ccb-412c-a234-c451a93312a5"
   },
   "outputs": [],
   "source": [
    "a1 = np.array([1, 2, 3])\n",
    "a2 = np.array([4, 5, 6])"
   ]
  },
  {
   "cell_type": "code",
   "execution_count": 8,
   "outputs": [
    {
     "data": {
      "text/plain": "array([ 4, 10, 18])"
     },
     "execution_count": 8,
     "metadata": {},
     "output_type": "execute_result"
    }
   ],
   "source": [
    "# Matrix Multiplication\n",
    "a1 * a2\n",
    "# Another Example\n",
    "list = []\n",
    "for i, j in zip(a1, a2):\n",
    "  list.append(i * j)\n",
    "print(list)\n",
    "\n",
    "[x[0]*x[1] for x in zip(a1,a2)]\n",
    "[a*b for a,b in zip(a1,a2)]"
   ],
   "metadata": {
    "collapsed": false
   }
  },
  {
   "cell_type": "code",
   "execution_count": 4,
   "metadata": {
    "colab": {
     "base_uri": "https://localhost:8080/",
     "height": 197
    },
    "id": "DkfnR8QzqLA8",
    "outputId": "801a594d-5f6e-47f9-fda3-63ff0fea654e"
   },
   "outputs": [
    {
     "name": "stdout",
     "output_type": "stream",
     "text": [
      "The image at the 0th index is: \n"
     ]
    },
    {
     "data": {
      "text/plain": "<matplotlib.image.AxesImage at 0x7f91e5082260>"
     },
     "execution_count": 4,
     "metadata": {},
     "output_type": "execute_result"
    },
    {
     "data": {
      "text/plain": "<Figure size 640x480 with 1 Axes>",
      "image/png": "[encoded data removed]"
     },
     "metadata": {},
     "output_type": "display_data"
    }
   ],
   "source": [
    "image_num = 0\n",
    "\n",
    "print(f\"The image at the {image_num}th index is: \")\n",
    "plt.imshow(x_train[image_num], cmap=\"Greys_r\")"
   ]
  },
  {
   "cell_type": "code",
   "execution_count": 7,
   "metadata": {
    "colab": {
     "base_uri": "https://localhost:8080/"
    },
    "id": "_eBZWiBhwIOT",
    "outputId": "da86c585-6dc9-4235-c54b-0fc071d12a9e"
   },
   "outputs": [
    {
     "data": {
      "text/plain": "array([0, 1, 2, 3, 4, 5, 6, 7, 8, 9], dtype=uint8)"
     },
     "execution_count": 7,
     "metadata": {},
     "output_type": "execute_result"
    }
   ],
   "source": [
    "np.unique(y_train) # Can see that all numbers from 0 to 9 is included"
   ]
  },
  {
   "cell_type": "code",
   "execution_count": 8,
   "outputs": [
    {
     "name": "stdout",
     "output_type": "stream",
     "text": [
      "6742 5958 6131 5842 5421 5918 6265 5851 5949\n"
     ]
    },
    {
     "data": {
      "text/plain": "Counter({5: 5421,\n         0: 5923,\n         4: 5842,\n         1: 6742,\n         9: 5949,\n         2: 5958,\n         3: 6131,\n         6: 5918,\n         7: 6265,\n         8: 5851})"
     },
     "execution_count": 8,
     "metadata": {},
     "output_type": "execute_result"
    }
   ],
   "source": [
    "one = 0\n",
    "two = 0\n",
    "three = 0\n",
    "four = 0\n",
    "five = 0\n",
    "six = 0\n",
    "seven = 0\n",
    "eight = 0\n",
    "nine = 0\n",
    "\n",
    "for i in y_train:\n",
    "  if i == 1:\n",
    "    one += 1\n",
    "  if i == 2:\n",
    "    two += 1\n",
    "  if i == 3:\n",
    "    three += 1\n",
    "  if i == 4:\n",
    "    four += 1\n",
    "  if i == 5:\n",
    "    five += 1\n",
    "  if i == 6:\n",
    "    six += 1\n",
    "  if i == 7:\n",
    "    seven += 1\n",
    "  if i == 8:\n",
    "    eight += 1\n",
    "  if i == 9:\n",
    "    nine += 1\n",
    "\n",
    "print(one, two, three, four, five, six, seven, eight, nine)\n",
    "\n",
    "from collections import Counter\n",
    "Counter(y_train)"
   ],
   "metadata": {
    "collapsed": false
   }
  },
  {
   "cell_type": "code",
   "execution_count": 10,
   "metadata": {
    "id": "nt-mGpl5sGnr"
   },
   "outputs": [
    {
     "data": {
      "text/plain": "(array([0.02177792, 0.68788396, 0.57657932, 0.67793006, 0.1447572 ,\n        0.64295768, 0.05556586, 0.20833906, 0.32806249, 0.92116472,\n        0.82181906, 0.93506371, 0.63892118, 0.69830548, 0.89507247,\n        0.4612522 , 0.62098137, 0.3121395 , 0.42186358, 0.84730381,\n        0.40745946, 0.36349546, 0.53293997, 0.15095431, 0.50852202,\n        0.22519364, 0.36040575, 0.71728793, 0.8206363 , 0.31067386,\n        0.36102126, 0.80015601, 0.22643696, 0.96823929, 0.99385723,\n        0.64755154, 0.13627438, 0.89948244, 0.43905845, 0.44951045,\n        0.88451776, 0.52643058, 0.27348537, 0.25775727, 0.0475682 ,\n        0.75437656, 0.98345283, 0.97766541, 0.22710545, 0.27568629,\n        0.89824495, 0.31082947, 0.35981598, 0.9027589 , 0.74895914,\n        0.21868559, 0.63505111, 0.68676559, 0.31612049, 0.00845098,\n        0.69119368, 0.85075358, 0.28601022, 0.14440971, 0.11969378,\n        0.73698142, 0.99438866, 0.26431956, 0.8944867 , 0.32532004,\n        0.84448402, 0.78233273, 0.23578922, 0.58190472, 0.42000995,\n        0.51048139, 0.9044556 , 0.00761975, 0.98714352, 0.9113207 ,\n        0.85667012, 0.81845809, 0.65794705, 0.53361553, 0.74469374,\n        0.90824405, 0.81844806, 0.24702323, 0.61832883, 0.91259523,\n        0.08462647, 0.76880769, 0.79107223, 0.55207472, 0.84527288,\n        0.52377312, 0.03465267, 0.26623426, 0.25999903, 0.8102964 ,\n        0.97652071, 0.07425005, 0.87305382, 0.93498112, 0.48792751,\n        0.29372863, 0.62410976, 0.86940479, 0.97573997, 0.71469975,\n        0.145822  , 0.77776776, 0.08239746, 0.97214475, 0.4630133 ,\n        0.36024295, 0.95878725, 0.70116908, 0.24290823, 0.60035389,\n        0.83167076, 0.35422756, 0.94267403, 0.92877746, 0.14574362,\n        0.30818373, 0.89149877, 0.01513392, 0.93859548, 0.13810803,\n        0.65313452, 0.02786573, 0.8322651 , 0.04134187, 0.97990253,\n        0.0532965 , 0.14107691, 0.51720747, 0.69051683, 0.88412344,\n        0.61158474, 0.40933813, 0.13102177, 0.82468016, 0.72258124,\n        0.74841905, 0.74369797, 0.56636757, 0.83624329, 0.96051662,\n        0.28559387, 0.58986616, 0.16201248, 0.65212804, 0.82324119,\n        0.6640782 , 0.26502815, 0.50402743, 0.35959459, 0.92525471,\n        0.996417  , 0.97417886, 0.84430564, 0.54924953, 0.32737614,\n        0.40824581, 0.28904417, 0.78966094, 0.03868896, 0.57091546,\n        0.58266575, 0.12109621, 0.56500376, 0.43791531, 0.24743977,\n        0.63642944, 0.51467202, 0.80660648, 0.4993457 , 0.87539351,\n        0.46526661, 0.05534697, 0.24082504, 0.09547467, 0.70028691,\n        0.38625286, 0.24729876, 0.58445279, 0.75139385, 0.94422716,\n        0.48684162, 0.71346778, 0.79908112, 0.4568336 , 0.57108061,\n        0.35514645, 0.64991336, 0.01847892, 0.23194687, 0.33833049,\n        0.32136821, 0.35567481, 0.08499371, 0.87906725, 0.87214536,\n        0.24100887, 0.60857673, 0.82681809, 0.64489863, 0.70339395,\n        0.3929416 , 0.16505484, 0.39378176, 0.82922178, 0.43598157,\n        0.43206811, 0.64038977, 0.91531633, 0.77591846, 0.64133197,\n        0.69300642, 0.15000683, 0.43474965, 0.6563621 , 0.78721249,\n        0.70362044, 0.63932265, 0.04498666, 0.59172563, 0.15172909,\n        0.26861719, 0.8866297 , 0.11441617, 0.63657137, 0.64122983,\n        0.6363518 , 0.99556645, 0.44038664, 0.13296404, 0.98356431,\n        0.93997496, 0.73071812, 0.86645128, 0.06660492, 0.81646424,\n        0.68635689, 0.42394976, 0.92747169, 0.73324835, 0.22591331,\n        0.08419192, 0.68026002, 0.94846089, 0.18818483, 0.52557388,\n        0.22588182, 0.65384639, 0.52050433, 0.21581489, 0.17204549,\n        0.91209555, 0.86526811, 0.51506371, 0.79835166, 0.11495271,\n        0.14547779, 0.44250818, 0.29084654, 0.28865302, 0.4516958 ,\n        0.366581  , 0.93704491, 0.30653636, 0.93261064, 0.04090441,\n        0.5085795 , 0.7103639 , 0.30427285, 0.35489855, 0.99510744,\n        0.35752184, 0.12330789, 0.42904276, 0.33720719, 0.20847901,\n        0.74837668, 0.44382242, 0.55730972, 0.45795493, 0.37604708,\n        0.39139515, 0.28268227, 0.1376346 , 0.6726035 , 0.35873773,\n        0.63297367, 0.65778139, 0.15292906, 0.2104389 , 0.43107052,\n        0.05556568, 0.6922626 , 0.39228827, 0.62869773, 0.70255417,\n        0.69136633, 0.59190763, 0.04114459, 0.18787148, 0.26645482,\n        0.91459804, 0.10229996, 0.93217195, 0.08209209, 0.36831356,\n        0.20872982, 0.18706617, 0.69986922, 0.85102213, 0.49008977,\n        0.35299365, 0.91767984, 0.7579244 , 0.18901225, 0.25011843,\n        0.41226753, 0.98849084, 0.72436134, 0.34602664, 0.23256139,\n        0.50499935, 0.31617736, 0.19552928, 0.50263403, 0.86140932,\n        0.90362615, 0.64955201, 0.70805335, 0.30448579, 0.15064675,\n        0.59380847, 0.45646122, 0.65230835, 0.85923015, 0.52781653,\n        0.79388121, 0.84790434, 0.55548606, 0.44479353, 0.92424256,\n        0.65804953, 0.79685725, 0.96170856, 0.58839051, 0.10426445,\n        0.10085416, 0.06012055, 0.17721249, 0.62246968, 0.8943378 ,\n        0.05048118, 0.40766783, 0.0946215 , 0.29260688, 0.75370152,\n        0.71740521, 0.60972224, 0.88757593, 0.0272114 , 0.36754244,\n        0.81548716, 0.06434032, 0.55286113, 0.09318158, 0.78233149,\n        0.71836434, 0.54844025, 0.39947547, 0.86641113, 0.22107631,\n        0.43969481, 0.91253328, 0.10840865, 0.95081497, 0.65224964,\n        0.1313681 , 0.22573454, 0.10374264, 0.40127158, 0.22619856,\n        0.57048499, 0.63251106, 0.94505369, 0.91777574, 0.79861603,\n        0.697009  , 0.8798124 , 0.71987727, 0.6467952 , 0.04631032,\n        0.91426184, 0.73794014, 0.02193363, 0.95113113, 0.35044241,\n        0.90008825, 0.6118954 , 0.40053651, 0.86065756, 0.41112878,\n        0.33548867, 0.47596023, 0.70735924, 0.38943685, 0.50720064,\n        0.03059753, 0.74087433, 0.39144224, 0.36664492, 0.4744703 ,\n        0.42480358, 0.12538392, 0.84667253, 0.78454475, 0.71463818,\n        0.16923552, 0.05832522, 0.49362803, 0.8387605 , 0.68066873,\n        0.59585546, 0.33611309, 0.7326292 , 0.38908564, 0.04132923,\n        0.23270443, 0.1793545 , 0.28699672, 0.34159101, 0.27271083,\n        0.43561009, 0.69763123, 0.89203275, 0.58465161, 0.84023809,\n        0.36294362, 0.17946177, 0.28213645, 0.79520521, 0.0616023 ,\n        0.37938176, 0.90726578, 0.41311088, 0.68226848, 0.99656888,\n        0.45285967, 0.93766254, 0.07835194, 0.59567935, 0.53507467,\n        0.71077729, 0.14105844, 0.57868281, 0.04920262, 0.09778834,\n        0.40091054, 0.38101567, 0.3140727 , 0.31579959, 0.01185503,\n        0.34998   , 0.74739886, 0.42668215, 0.59019066, 0.41271454,\n        0.5911748 , 0.26724925, 0.11821553, 0.64582226, 0.52712024,\n        0.27616982, 0.70220302, 0.21086836, 0.36903309, 0.47655654,\n        0.0465363 , 0.87298722, 0.55205909, 0.99869665, 0.9972744 ,\n        0.38844449, 0.87928552, 0.80729957, 0.32462399, 0.1141562 ,\n        0.14059024, 0.00157735, 0.53507107, 0.41588398, 0.63635665,\n        0.19916014, 0.70165457, 0.54943268, 0.94041277, 0.03098333,\n        0.54244654, 0.76372193, 0.68085139, 0.50737423, 0.25356672,\n        0.51146523, 0.37487648, 0.46751211, 0.12422119, 0.01522053,\n        0.23988581, 0.32160792, 0.24256634, 0.26582834, 0.02402394,\n        0.73316525, 0.08464256, 0.52626746, 0.69023267, 0.35990915,\n        0.90967677, 0.45273894, 0.96006414, 0.58338594, 0.09120052,\n        0.07604664, 0.70933508, 0.16613332, 0.59281497, 0.55512977,\n        0.41805428, 0.02615062, 0.04458789, 0.38248793, 0.16030154,\n        0.8751221 , 0.04456818, 0.68290688, 0.38710365, 0.54857525,\n        0.5169436 , 0.14797416, 0.60933873, 0.98442314, 0.56065157,\n        0.4987413 , 0.54507861, 0.37201317, 0.77370385, 0.40442112,\n        0.62076775, 0.30751693, 0.7679619 , 0.92704322, 0.99116578,\n        0.77717238, 0.46639633, 0.30269501, 0.96000867, 0.42308708,\n        0.78370819, 0.472242  , 0.91291784, 0.21901159, 0.53207054,\n        0.38517578, 0.47223685, 0.98941252, 0.79868698, 0.03880624,\n        0.18470323, 0.85243088, 0.58863589, 0.52939114, 0.87354744,\n        0.70382324, 0.71233939, 0.21240035, 0.04228759, 0.66704549,\n        0.46027132, 0.66956411, 0.77528199, 0.18281673, 0.52662118,\n        0.32282253, 0.61492905, 0.39349011, 0.05526219, 0.96974471,\n        0.83619379, 0.39169472, 0.74216124, 0.5748564 , 0.73362957,\n        0.10039209, 0.19535779, 0.08266559, 0.859676  , 0.64620709,\n        0.4624686 , 0.92494022, 0.63651643, 0.14899282, 0.07262334,\n        0.24297816, 0.68044139, 0.11135426, 0.99383879, 0.66553521,\n        0.1936165 , 0.02862198, 0.62458157, 0.38936318, 0.45236502,\n        0.07677614, 0.41444687, 0.43020534, 0.81684063, 0.04174932,\n        0.04884756, 0.25076032, 0.67089754, 0.99587369, 0.84372232,\n        0.51957929, 0.49886261, 0.73247386, 0.87322671, 0.95989085,\n        0.38505769, 0.66071409, 0.98458809, 0.03436554, 0.82598929,\n        0.55183462, 0.0914588 , 0.91229168, 0.76867242, 0.0168628 ,\n        0.16822178, 0.47079641, 0.10047514, 0.4784917 , 0.55054831,\n        0.25369386, 0.379645  , 0.58317519, 0.34268189, 0.38786673,\n        0.41586346, 0.60145076, 0.01333675, 0.01490368, 0.60887889,\n        0.02218403, 0.78231281, 0.56344921, 0.24120845, 0.30555064,\n        0.19428399, 0.9806873 , 0.22958994, 0.91954551, 0.15859693,\n        0.5715394 , 0.42029251, 0.79070648, 0.97480156, 0.56005628,\n        0.14650117, 0.75985097, 0.35340607, 0.3455888 , 0.57474341,\n        0.38527521, 0.68445415, 0.57477293, 0.10452389, 0.27453045,\n        0.17462756, 0.22189359, 0.01800067, 0.02170593, 0.29552339,\n        0.12135083, 0.90332455, 0.2563478 , 0.47545498, 0.83061682,\n        0.72115658, 0.0880753 , 0.4263976 , 0.75116607, 0.66767841,\n        0.21617269, 0.95571545, 0.87385556, 0.36846677, 0.9948152 ,\n        0.1436069 , 0.86242018, 0.76031084, 0.73360403, 0.63664512,\n        0.60814871, 0.85543545, 0.59755884, 0.17264915, 0.7055791 ,\n        0.2207302 , 0.26945673, 0.06878493, 0.98753356, 0.84356048,\n        0.26999259, 0.96437768, 0.32695412, 0.96132949, 0.92078775,\n        0.90250589, 0.3930601 , 0.37391746, 0.30428309, 0.89189824,\n        0.8338234 , 0.23359042, 0.20554003, 0.19214667, 0.71671176,\n        0.25116137, 0.51609984, 0.91321857, 0.21702742, 0.23828683,\n        0.44157131, 0.08688711, 0.06976086, 0.91357831, 0.99410779,\n        0.31172706, 0.91862632, 0.80479701, 0.07422569, 0.34893218,\n        0.6488175 , 0.78905642, 0.13824819, 0.27563941, 0.89957613,\n        0.60904757, 0.50367748, 0.05835919, 0.33231937, 0.22095566,\n        0.68960344, 0.94460785, 0.75994984, 0.88573944, 0.42675417,\n        0.61875348, 0.38800894, 0.84354144, 0.442082  , 0.06827919,\n        0.91381544, 0.15233349, 0.77952541, 0.39085054, 0.63251948,\n        0.96748883, 0.22115827, 0.68173358, 0.26041712, 0.23122266,\n        0.8610351 , 0.64566915, 0.9449676 , 0.37110791]),\n (784,))"
     },
     "execution_count": 10,
     "metadata": {},
     "output_type": "execute_result"
    }
   ],
   "source": [
    "import random\n",
    "random_list = [random.uniform(0,1) for i in range(784)]\n",
    "random_array = np.array(random_list)\n",
    "random_array, random_array.shape"
   ]
  },
  {
   "cell_type": "code",
   "execution_count": 11,
   "metadata": {
    "colab": {
     "base_uri": "https://localhost:8080/"
    },
    "id": "54mQwfi3uS8l",
    "outputId": "57067d15-0352-4551-82af-760fe9dea4a9"
   },
   "outputs": [
    {
     "data": {
      "text/plain": "(28, 28)"
     },
     "execution_count": 11,
     "metadata": {},
     "output_type": "execute_result"
    }
   ],
   "source": [
    "random_array = random_array.reshape((28,28))\n",
    "random_array.shape"
   ]
  },
  {
   "cell_type": "code",
   "execution_count": 12,
   "metadata": {
    "colab": {
     "base_uri": "https://localhost:8080/",
     "height": 282
    },
    "id": "T3-EJrhks_-p",
    "outputId": "b86fa712-ac9d-4e4b-9b35-2b00befe4d4f"
   },
   "outputs": [
    {
     "data": {
      "text/plain": "<matplotlib.image.AxesImage at 0x7f91c56b7730>"
     },
     "execution_count": 12,
     "metadata": {},
     "output_type": "execute_result"
    },
    {
     "data": {
      "text/plain": "<Figure size 640x480 with 1 Axes>",
      "image/png": "[encoded data removed]"
     },
     "metadata": {},
     "output_type": "display_data"
    }
   ],
   "source": [
    "plt.imshow(random_array, cmap='Greys')"
   ]
  },
  {
   "cell_type": "markdown",
   "source": [
    "# Building Model"
   ],
   "metadata": {
    "collapsed": false
   }
  },
  {
   "cell_type": "code",
   "execution_count": 7,
   "metadata": {
    "colab": {
     "base_uri": "https://localhost:8080/"
    },
    "id": "rQjnGbgSzAza",
    "outputId": "8f3721ff-b822-4d12-ca2a-c4815883f28b"
   },
   "outputs": [
    {
     "name": "stdout",
     "output_type": "stream",
     "text": [
      "Model: \"sequential_1\"\n",
      "_________________________________________________________________\n",
      " Layer (type)                Output Shape              Param #   \n",
      "=================================================================\n",
      " flatten_1 (Flatten)         (None, 784)               0         \n",
      "                                                                 \n",
      " dense_4 (Dense)             (None, 16)                12560     \n",
      "                                                                 \n",
      " dense_5 (Dense)             (None, 16)                272       \n",
      "                                                                 \n",
      " dense_6 (Dense)             (None, 10)                170       \n",
      "                                                                 \n",
      "=================================================================\n",
      "Total params: 13,002\n",
      "Trainable params: 13,002\n",
      "Non-trainable params: 0\n",
      "_________________________________________________________________\n"
     ]
    }
   ],
   "source": [
    "import tensorflow as tf\n",
    "from tensorflow.keras.models import Sequential\n",
    "from tensorflow.keras.layers import Flatten, Dense\n",
    "\n",
    "mnist = tf.keras.datasets.mnist\n",
    "\n",
    "(x_train, y_train), (x_test, y_test) = mnist.load_data()\n",
    "x_train, x_test = x_train / 255.0, x_test / 255.0\n",
    "\n",
    "\n",
    "# Here is the model\n",
    "model = Sequential([\n",
    "                    Flatten(input_shape=(28, 28)), # fully conv if not flatten, not using cnn, so no way to put all data into dense layer\n",
    "                    Dense(units = 16, activation=\"relu\"),\n",
    "                    Dense(units = 16, activation=\"relu\"),\n",
    "                    Dense(10, activation = \"softmax\")\n",
    "]) # talk about the model.summary details\n",
    "\n",
    "# More complicated one with more neurons and an extra layer\n",
    "# model = Sequential([\n",
    "#                     Flatten(input_shape=(28, 28)), # fully conv if not flatten, not using cnn, so no way to put all data into dense layer\n",
    "#                     Dense(units = 128, activation=\"relu\"),\n",
    "#                     Dense(units = 128, activation=\"relu\"),\n",
    "#                     Dense(units = 128, activation=\"relu\"),\n",
    "#                     Dense(20, activation = \"softmax\")\n",
    "# ])\n",
    "\n",
    "model.summary()\n",
    "\n"
   ]
  },
  {
   "cell_type": "code",
   "execution_count": 8,
   "outputs": [
    {
     "name": "stdout",
     "output_type": "stream",
     "text": [
      "Epoch 1/30\n",
      "118/118 [==============================] - 3s 7ms/step - loss: 1.2709 - accuracy: 0.6369 - val_loss: 0.5556 - val_accuracy: 0.8577\n",
      "Epoch 2/30\n",
      "118/118 [==============================] - 0s 4ms/step - loss: 0.4423 - accuracy: 0.8810 - val_loss: 0.3496 - val_accuracy: 0.9034\n",
      "Epoch 3/30\n",
      "118/118 [==============================] - 0s 4ms/step - loss: 0.3329 - accuracy: 0.9080 - val_loss: 0.2972 - val_accuracy: 0.9162\n",
      "Epoch 4/30\n",
      "118/118 [==============================] - 0s 4ms/step - loss: 0.2916 - accuracy: 0.9177 - val_loss: 0.2740 - val_accuracy: 0.9224\n",
      "Epoch 5/30\n",
      "118/118 [==============================] - 0s 4ms/step - loss: 0.2677 - accuracy: 0.9246 - val_loss: 0.2605 - val_accuracy: 0.9248\n",
      "Epoch 6/30\n",
      "118/118 [==============================] - 0s 4ms/step - loss: 0.2492 - accuracy: 0.9301 - val_loss: 0.2441 - val_accuracy: 0.9295\n",
      "Epoch 7/30\n",
      "118/118 [==============================] - 0s 4ms/step - loss: 0.2357 - accuracy: 0.9339 - val_loss: 0.2328 - val_accuracy: 0.9325\n",
      "Epoch 8/30\n",
      "118/118 [==============================] - 0s 4ms/step - loss: 0.2243 - accuracy: 0.9369 - val_loss: 0.2246 - val_accuracy: 0.9355\n",
      "Epoch 9/30\n",
      "118/118 [==============================] - 0s 3ms/step - loss: 0.2156 - accuracy: 0.9393 - val_loss: 0.2202 - val_accuracy: 0.9377\n",
      "Epoch 10/30\n",
      "118/118 [==============================] - 0s 3ms/step - loss: 0.2083 - accuracy: 0.9412 - val_loss: 0.2165 - val_accuracy: 0.9389\n",
      "Epoch 11/30\n",
      "118/118 [==============================] - 0s 3ms/step - loss: 0.2005 - accuracy: 0.9441 - val_loss: 0.2122 - val_accuracy: 0.9382\n",
      "Epoch 12/30\n",
      "118/118 [==============================] - 0s 3ms/step - loss: 0.1943 - accuracy: 0.9454 - val_loss: 0.2103 - val_accuracy: 0.9396\n",
      "Epoch 13/30\n",
      "118/118 [==============================] - 0s 3ms/step - loss: 0.1896 - accuracy: 0.9466 - val_loss: 0.2030 - val_accuracy: 0.9430\n",
      "Epoch 14/30\n",
      "118/118 [==============================] - 0s 3ms/step - loss: 0.1839 - accuracy: 0.9483 - val_loss: 0.1998 - val_accuracy: 0.9435\n",
      "Epoch 15/30\n",
      "118/118 [==============================] - 0s 3ms/step - loss: 0.1790 - accuracy: 0.9493 - val_loss: 0.1991 - val_accuracy: 0.9437\n",
      "Epoch 16/30\n",
      "118/118 [==============================] - 0s 4ms/step - loss: 0.1741 - accuracy: 0.9506 - val_loss: 0.1929 - val_accuracy: 0.9446\n",
      "Epoch 17/30\n",
      "118/118 [==============================] - 0s 4ms/step - loss: 0.1701 - accuracy: 0.9520 - val_loss: 0.1907 - val_accuracy: 0.9452\n",
      "Epoch 18/30\n",
      "118/118 [==============================] - 0s 3ms/step - loss: 0.1660 - accuracy: 0.9533 - val_loss: 0.1904 - val_accuracy: 0.9460\n",
      "Epoch 19/30\n",
      "118/118 [==============================] - 0s 4ms/step - loss: 0.1633 - accuracy: 0.9536 - val_loss: 0.1893 - val_accuracy: 0.9468\n",
      "Epoch 20/30\n",
      "118/118 [==============================] - 0s 4ms/step - loss: 0.1594 - accuracy: 0.9551 - val_loss: 0.1853 - val_accuracy: 0.9476\n",
      "Epoch 21/30\n",
      "118/118 [==============================] - 1s 5ms/step - loss: 0.1563 - accuracy: 0.9563 - val_loss: 0.1834 - val_accuracy: 0.9482\n",
      "Epoch 22/30\n",
      "118/118 [==============================] - 0s 3ms/step - loss: 0.1541 - accuracy: 0.9560 - val_loss: 0.1844 - val_accuracy: 0.9472\n",
      "Epoch 23/30\n",
      "118/118 [==============================] - 0s 3ms/step - loss: 0.1510 - accuracy: 0.9572 - val_loss: 0.1827 - val_accuracy: 0.9492\n",
      "Epoch 24/30\n",
      "118/118 [==============================] - 0s 3ms/step - loss: 0.1484 - accuracy: 0.9577 - val_loss: 0.1810 - val_accuracy: 0.9505\n",
      "Epoch 25/30\n",
      "118/118 [==============================] - 0s 3ms/step - loss: 0.1461 - accuracy: 0.9588 - val_loss: 0.1777 - val_accuracy: 0.9508\n",
      "Epoch 26/30\n",
      "118/118 [==============================] - 0s 3ms/step - loss: 0.1434 - accuracy: 0.9591 - val_loss: 0.1772 - val_accuracy: 0.9518\n",
      "Epoch 27/30\n",
      "118/118 [==============================] - 0s 3ms/step - loss: 0.1421 - accuracy: 0.9597 - val_loss: 0.1755 - val_accuracy: 0.9521\n",
      "Epoch 28/30\n",
      "118/118 [==============================] - 0s 3ms/step - loss: 0.1389 - accuracy: 0.9603 - val_loss: 0.1765 - val_accuracy: 0.9507\n",
      "Epoch 29/30\n",
      "118/118 [==============================] - 0s 3ms/step - loss: 0.1375 - accuracy: 0.9605 - val_loss: 0.1741 - val_accuracy: 0.9515\n",
      "Epoch 30/30\n",
      "118/118 [==============================] - 0s 3ms/step - loss: 0.1355 - accuracy: 0.9614 - val_loss: 0.1753 - val_accuracy: 0.9511\n"
     ]
    }
   ],
   "source": [
    "model.compile(optimizer='adam', # Used for the gradients\n",
    "              loss='sparse_categorical_crossentropy', # Our cost function, which we are using cross-entropy\n",
    "              metrics=['accuracy'])\n",
    "\n",
    "history = model.fit(x_train, y_train, epochs=30, batch_size=512, validation_data=(x_test, y_test))"
   ],
   "metadata": {
    "collapsed": false
   }
  },
  {
   "cell_type": "markdown",
   "metadata": {
    "id": "0RYt4GzAY5sg"
   },
   "source": [
    " # Building Model V2"
   ]
  },
  {
   "cell_type": "code",
   "execution_count": 19,
   "metadata": {
    "id": "HFaqwrG7gatF"
   },
   "outputs": [
    {
     "name": "stdout",
     "output_type": "stream",
     "text": [
      "(28, 28)\n",
      "<class 'numpy.ndarray'>\n"
     ]
    }
   ],
   "source": [
    "import tensorflow as tf\n",
    "import numpy as np\n",
    "import matplotlib.pyplot as plt\n",
    "\n",
    "mnist = tf.keras.datasets.mnist\n",
    "\n",
    "(x_train, y_train), (x_test, y_test) = mnist.load_data()\n",
    "\n",
    "# Scaling the data, so it improves the accuracy of the machine learning model\n",
    "x_train, x_test = x_train / 255.0, x_test / 255.0\n",
    "\n",
    "x_train_flattened = x_train.reshape(len(x_train), 28*28)\n",
    "x_test_flattened = x_test.reshape(len(x_test), 28*28)\n",
    "\n",
    "print(x_test[0].shape)\n",
    "print(type(x_test[0]))"
   ]
  },
  {
   "cell_type": "markdown",
   "metadata": {
    "id": "8GDPg0QAY1jT"
   },
   "source": [
    "# Model Training"
   ]
  },
  {
   "cell_type": "code",
   "execution_count": 73,
   "metadata": {
    "colab": {
     "base_uri": "https://localhost:8080/"
    },
    "id": "F9ULw4-4it8i",
    "outputId": "03463496-d4a7-4c0c-ddd9-65fb8fd8eac4"
   },
   "outputs": [
    {
     "name": "stdout",
     "output_type": "stream",
     "text": [
      "[[1]\n",
      " [2]]\n"
     ]
    },
    {
     "data": {
      "text/plain": "(2, 1)"
     },
     "execution_count": 73,
     "metadata": {},
     "output_type": "execute_result"
    }
   ],
   "source": [
    "a = np.array([1,2])\n",
    "a.shape\n",
    "b = np.expand_dims(a, 1)\n",
    "print(b)\n",
    "b.shape"
   ]
  },
  {
   "cell_type": "code",
   "execution_count": 32,
   "metadata": {
    "colab": {
     "base_uri": "https://localhost:8080/"
    },
    "id": "UOU6HNn2jNPJ",
    "outputId": "bf1d4b4a-017e-428b-cd8d-78f58bfd860a"
   },
   "outputs": [
    {
     "data": {
      "text/plain": [
       "(60000, 28, 28)"
      ]
     },
     "execution_count": 32,
     "metadata": {},
     "output_type": "execute_result"
    }
   ],
   "source": [
    "x_train.shape"
   ]
  },
  {
   "cell_type": "code",
   "execution_count": 79,
   "metadata": {
    "colab": {
     "base_uri": "https://localhost:8080/"
    },
    "id": "wicoh9knjIrQ",
    "outputId": "37155a96-2c84-4389-8c64-532e1e27dc62"
   },
   "outputs": [
    {
     "name": "stdout",
     "output_type": "stream",
     "text": [
      "[[0.         0.         0.         0.         0.         0.\n",
      "  0.         0.         0.         0.         0.         0.\n",
      "  0.         0.         0.         0.         0.         0.\n",
      "  0.         0.         0.         0.         0.         0.\n",
      "  0.         0.         0.         0.        ]\n",
      " [0.         0.         0.         0.         0.         0.\n",
      "  0.         0.         0.         0.         0.         0.\n",
      "  0.         0.         0.         0.         0.         0.\n",
      "  0.         0.         0.         0.         0.         0.\n",
      "  0.         0.         0.         0.        ]\n",
      " [0.         0.         0.         0.         0.         0.\n",
      "  0.         0.         0.         0.         0.         0.\n",
      "  0.         0.         0.         0.         0.         0.\n",
      "  0.         0.         0.         0.         0.         0.\n",
      "  0.         0.         0.         0.        ]\n",
      " [0.         0.         0.         0.         0.         0.\n",
      "  0.         0.         0.         0.         0.         0.\n",
      "  0.         0.         0.         0.         0.         0.\n",
      "  0.         0.         0.         0.         0.         0.\n",
      "  0.         0.         0.         0.        ]\n",
      " [0.         0.         0.         0.         0.         0.\n",
      "  0.         0.         0.         0.         0.         0.\n",
      "  0.         0.         0.         0.         0.         0.\n",
      "  0.         0.         0.         0.         0.         0.\n",
      "  0.         0.         0.         0.        ]\n",
      " [0.         0.         0.         0.         0.         0.\n",
      "  0.         0.         0.         0.         0.         0.\n",
      "  0.01176471 0.07058824 0.07058824 0.07058824 0.49411765 0.53333333\n",
      "  0.68627451 0.10196078 0.65098039 1.         0.96862745 0.49803922\n",
      "  0.         0.         0.         0.        ]\n",
      " [0.         0.         0.         0.         0.         0.\n",
      "  0.         0.         0.11764706 0.14117647 0.36862745 0.60392157\n",
      "  0.66666667 0.99215686 0.99215686 0.99215686 0.99215686 0.99215686\n",
      "  0.88235294 0.6745098  0.99215686 0.94901961 0.76470588 0.25098039\n",
      "  0.         0.         0.         0.        ]\n",
      " [0.         0.         0.         0.         0.         0.\n",
      "  0.         0.19215686 0.93333333 0.99215686 0.99215686 0.99215686\n",
      "  0.99215686 0.99215686 0.99215686 0.99215686 0.99215686 0.98431373\n",
      "  0.36470588 0.32156863 0.32156863 0.21960784 0.15294118 0.\n",
      "  0.         0.         0.         0.        ]\n",
      " [0.         0.         0.         0.         0.         0.\n",
      "  0.         0.07058824 0.85882353 0.99215686 0.99215686 0.99215686\n",
      "  0.99215686 0.99215686 0.77647059 0.71372549 0.96862745 0.94509804\n",
      "  0.         0.         0.         0.         0.         0.\n",
      "  0.         0.         0.         0.        ]\n",
      " [0.         0.         0.         0.         0.         0.\n",
      "  0.         0.         0.31372549 0.61176471 0.41960784 0.99215686\n",
      "  0.99215686 0.80392157 0.04313725 0.         0.16862745 0.60392157\n",
      "  0.         0.         0.         0.         0.         0.\n",
      "  0.         0.         0.         0.        ]\n",
      " [0.         0.         0.         0.         0.         0.\n",
      "  0.         0.         0.         0.05490196 0.00392157 0.60392157\n",
      "  0.99215686 0.35294118 0.         0.         0.         0.\n",
      "  0.         0.         0.         0.         0.         0.\n",
      "  0.         0.         0.         0.        ]\n",
      " [0.         0.         0.         0.         0.         0.\n",
      "  0.         0.         0.         0.         0.         0.54509804\n",
      "  0.99215686 0.74509804 0.00784314 0.         0.         0.\n",
      "  0.         0.         0.         0.         0.         0.\n",
      "  0.         0.         0.         0.        ]\n",
      " [0.         0.         0.         0.         0.         0.\n",
      "  0.         0.         0.         0.         0.         0.04313725\n",
      "  0.74509804 0.99215686 0.2745098  0.         0.         0.\n",
      "  0.         0.         0.         0.         0.         0.\n",
      "  0.         0.         0.         0.        ]\n",
      " [0.         0.         0.         0.         0.         0.\n",
      "  0.         0.         0.         0.         0.         0.\n",
      "  0.1372549  0.94509804 0.88235294 0.62745098 0.42352941 0.00392157\n",
      "  0.         0.         0.         0.         0.         0.\n",
      "  0.         0.         0.         0.        ]\n",
      " [0.         0.         0.         0.         0.         0.\n",
      "  0.         0.         0.         0.         0.         0.\n",
      "  0.         0.31764706 0.94117647 0.99215686 0.99215686 0.46666667\n",
      "  0.09803922 0.         0.         0.         0.         0.\n",
      "  0.         0.         0.         0.        ]\n",
      " [0.         0.         0.         0.         0.         0.\n",
      "  0.         0.         0.         0.         0.         0.\n",
      "  0.         0.         0.17647059 0.72941176 0.99215686 0.99215686\n",
      "  0.58823529 0.10588235 0.         0.         0.         0.\n",
      "  0.         0.         0.         0.        ]\n",
      " [0.         0.         0.         0.         0.         0.\n",
      "  0.         0.         0.         0.         0.         0.\n",
      "  0.         0.         0.         0.0627451  0.36470588 0.98823529\n",
      "  0.99215686 0.73333333 0.         0.         0.         0.\n",
      "  0.         0.         0.         0.        ]\n",
      " [0.         0.         0.         0.         0.         0.\n",
      "  0.         0.         0.         0.         0.         0.\n",
      "  0.         0.         0.         0.         0.         0.97647059\n",
      "  0.99215686 0.97647059 0.25098039 0.         0.         0.\n",
      "  0.         0.         0.         0.        ]\n",
      " [0.         0.         0.         0.         0.         0.\n",
      "  0.         0.         0.         0.         0.         0.\n",
      "  0.         0.         0.18039216 0.50980392 0.71764706 0.99215686\n",
      "  0.99215686 0.81176471 0.00784314 0.         0.         0.\n",
      "  0.         0.         0.         0.        ]\n",
      " [0.         0.         0.         0.         0.         0.\n",
      "  0.         0.         0.         0.         0.         0.\n",
      "  0.15294118 0.58039216 0.89803922 0.99215686 0.99215686 0.99215686\n",
      "  0.98039216 0.71372549 0.         0.         0.         0.\n",
      "  0.         0.         0.         0.        ]\n",
      " [0.         0.         0.         0.         0.         0.\n",
      "  0.         0.         0.         0.         0.09411765 0.44705882\n",
      "  0.86666667 0.99215686 0.99215686 0.99215686 0.99215686 0.78823529\n",
      "  0.30588235 0.         0.         0.         0.         0.\n",
      "  0.         0.         0.         0.        ]\n",
      " [0.         0.         0.         0.         0.         0.\n",
      "  0.         0.         0.09019608 0.25882353 0.83529412 0.99215686\n",
      "  0.99215686 0.99215686 0.99215686 0.77647059 0.31764706 0.00784314\n",
      "  0.         0.         0.         0.         0.         0.\n",
      "  0.         0.         0.         0.        ]\n",
      " [0.         0.         0.         0.         0.         0.\n",
      "  0.07058824 0.67058824 0.85882353 0.99215686 0.99215686 0.99215686\n",
      "  0.99215686 0.76470588 0.31372549 0.03529412 0.         0.\n",
      "  0.         0.         0.         0.         0.         0.\n",
      "  0.         0.         0.         0.        ]\n",
      " [0.         0.         0.         0.         0.21568627 0.6745098\n",
      "  0.88627451 0.99215686 0.99215686 0.99215686 0.99215686 0.95686275\n",
      "  0.52156863 0.04313725 0.         0.         0.         0.\n",
      "  0.         0.         0.         0.         0.         0.\n",
      "  0.         0.         0.         0.        ]\n",
      " [0.         0.         0.         0.         0.53333333 0.99215686\n",
      "  0.99215686 0.99215686 0.83137255 0.52941176 0.51764706 0.0627451\n",
      "  0.         0.         0.         0.         0.         0.\n",
      "  0.         0.         0.         0.         0.         0.\n",
      "  0.         0.         0.         0.        ]\n",
      " [0.         0.         0.         0.         0.         0.\n",
      "  0.         0.         0.         0.         0.         0.\n",
      "  0.         0.         0.         0.         0.         0.\n",
      "  0.         0.         0.         0.         0.         0.\n",
      "  0.         0.         0.         0.        ]\n",
      " [0.         0.         0.         0.         0.         0.\n",
      "  0.         0.         0.         0.         0.         0.\n",
      "  0.         0.         0.         0.         0.         0.\n",
      "  0.         0.         0.         0.         0.         0.\n",
      "  0.         0.         0.         0.        ]\n",
      " [0.         0.         0.         0.         0.         0.\n",
      "  0.         0.         0.         0.         0.         0.\n",
      "  0.         0.         0.         0.         0.         0.\n",
      "  0.         0.         0.         0.         0.         0.\n",
      "  0.         0.         0.         0.        ]]\n"
     ]
    }
   ],
   "source": [
    "np.expand_dims(x_train, 3).shape\n",
    "print(x_train[0])"
   ]
  },
  {
   "cell_type": "code",
   "execution_count": 9,
   "metadata": {
    "colab": {
     "base_uri": "https://localhost:8080/"
    },
    "id": "KYqvKtjfYvw4",
    "outputId": "cbe12b2d-54d6-4f0c-f542-10fa86a582e1"
   },
   "outputs": [
    {
     "name": "stdout",
     "output_type": "stream",
     "text": [
      "Model: \"sequential_2\"\n",
      "_________________________________________________________________\n",
      " Layer (type)                Output Shape              Param #   \n",
      "=================================================================\n",
      " conv2d (Conv2D)             (None, 28, 28, 32)        320       \n",
      "                                                                 \n",
      " max_pooling2d (MaxPooling2D  (None, 14, 14, 32)       0         \n",
      " )                                                               \n",
      "                                                                 \n",
      " conv2d_1 (Conv2D)           (None, 14, 14, 64)        18496     \n",
      "                                                                 \n",
      " max_pooling2d_1 (MaxPooling  (None, 7, 7, 64)         0         \n",
      " 2D)                                                             \n",
      "                                                                 \n",
      " conv2d_2 (Conv2D)           (None, 7, 7, 128)         73856     \n",
      "                                                                 \n",
      " flatten_2 (Flatten)         (None, 6272)              0         \n",
      "                                                                 \n",
      " dropout (Dropout)           (None, 6272)              0         \n",
      "                                                                 \n",
      " dense_7 (Dense)             (None, 784)               4918032   \n",
      "                                                                 \n",
      " dense_8 (Dense)             (None, 400)               314000    \n",
      "                                                                 \n",
      " dense_9 (Dense)             (None, 10)                4010      \n",
      "                                                                 \n",
      "=================================================================\n",
      "Total params: 5,328,714\n",
      "Trainable params: 5,328,714\n",
      "Non-trainable params: 0\n",
      "_________________________________________________________________\n"
     ]
    }
   ],
   "source": [
    "# Skip this part\n",
    "from tensorflow.keras.models import Sequential\n",
    "from tensorflow import keras\n",
    "from tensorflow.keras.layers import Flatten, Dense, Conv2D, MaxPooling2D, Dropout\n",
    "\n",
    "\n",
    "model = keras.Sequential([\n",
    "    Conv2D(filters=32, kernel_size=(3, 3), padding=\"same\", activation='relu', input_shape = (28, 28, 1)),\n",
    "    MaxPooling2D(pool_size = (2, 2)),\n",
    "    Conv2D(filters=64, kernel_size=(3, 3), padding=\"same\", activation='relu'),\n",
    "    MaxPooling2D(pool_size = (2, 2)),\n",
    "    Conv2D(filters=128, kernel_size=(3, 3), padding=\"same\", activation='relu'),\n",
    "    Flatten(),\n",
    "    Dropout(0.2), # Talk about dropout\n",
    "    Dense(784, activation='relu'),\n",
    "    Dense(400, activation='relu'),\n",
    "    Dense(10, activation='sigmoid')\n",
    "])\n",
    "\n",
    "model.compile(optimizer='adam',\n",
    "              loss='sparse_categorical_crossentropy',\n",
    "              metrics=['accuracy'])\n",
    "\n",
    "model.summary()\n"
   ]
  },
  {
   "cell_type": "code",
   "execution_count": null,
   "outputs": [],
   "source": [
    "# Defining it to a var so we can get the data later on\n",
    "history = model.fit(np.expand_dims(x_train, 3), y_train, epochs=30, batch_size=512, validation_data=(np.expand_dims(x_test, 3), y_test))\n",
    "# history = model.fit(x_train_flattened, y_train, epochs=30, validation_data=(x_test_flattened, y_test))\n"
   ],
   "metadata": {
    "collapsed": false,
    "pycharm": {
     "is_executing": true
    }
   }
  },
  {
   "cell_type": "markdown",
   "metadata": {
    "id": "QRoFgzuzowgc"
   },
   "source": [
    "#Save/Load"
   ]
  },
  {
   "cell_type": "code",
   "execution_count": 15,
   "metadata": {
    "id": "2UG5wy6ipCVy"
   },
   "outputs": [],
   "source": [
    "model.save(\"MNIST.h5\")"
   ]
  },
  {
   "cell_type": "code",
   "execution_count": 13,
   "outputs": [
    {
     "name": "stderr",
     "output_type": "stream",
     "text": [
      "2022-11-09 10:01:41.681296: W tensorflow/stream_executor/platform/default/dso_loader.cc:64] Could not load dynamic library 'libcuda.so.1'; dlerror: libcuda.so.1: cannot open shared object file: No such file or directory\n",
      "2022-11-09 10:01:41.681332: W tensorflow/stream_executor/cuda/cuda_driver.cc:263] failed call to cuInit: UNKNOWN ERROR (303)\n",
      "2022-11-09 10:01:41.681362: I tensorflow/stream_executor/cuda/cuda_diagnostics.cc:156] kernel driver does not appear to be running on this host (overdose): /proc/driver/nvidia/version does not exist\n",
      "2022-11-09 10:01:41.681944: I tensorflow/core/platform/cpu_feature_guard.cc:193] This TensorFlow binary is optimized with oneAPI Deep Neural Network Library (oneDNN) to use the following CPU instructions in performance-critical operations:  AVX2 FMA\n",
      "To enable them in other operations, rebuild TensorFlow with the appropriate compiler flags.\n",
      "2022-11-09 10:01:41.829370: W tensorflow/core/framework/cpu_allocator_impl.cc:82] Allocation of 19668992 exceeds 10% of free system memory.\n",
      "2022-11-09 10:01:41.839482: W tensorflow/core/framework/cpu_allocator_impl.cc:82] Allocation of 19668992 exceeds 10% of free system memory.\n",
      "2022-11-09 10:01:41.888361: W tensorflow/core/framework/cpu_allocator_impl.cc:82] Allocation of 19668992 exceeds 10% of free system memory.\n",
      "2022-11-09 10:01:42.032415: W tensorflow/core/framework/cpu_allocator_impl.cc:82] Allocation of 19668992 exceeds 10% of free system memory.\n",
      "2022-11-09 10:01:42.069748: W tensorflow/core/framework/cpu_allocator_impl.cc:82] Allocation of 19668992 exceeds 10% of free system memory.\n"
     ]
    }
   ],
   "source": [
    "model = tf.keras.models.load_model('MNIST.h5')"
   ],
   "metadata": {
    "collapsed": false
   }
  },
  {
   "cell_type": "markdown",
   "metadata": {
    "id": "9IZ8Uc01k8ei"
   },
   "source": [
    "#Prediction"
   ]
  },
  {
   "cell_type": "code",
   "execution_count": null,
   "outputs": [],
   "source": [
    "# !git clone https://gist.github.com/8409b3feec20f159d8a50b0a811d3bca.git colab_draw\n",
    "%run collab_draw/draw.py\n",
    "\n",
    "draw(filename = \"number.png\", w=400, h=400, line_width=15)"
   ],
   "metadata": {
    "collapsed": false,
    "pycharm": {
     "is_executing": true
    }
   }
  },
  {
   "cell_type": "code",
   "execution_count": null,
   "outputs": [],
   "source": [
    "plt.plot(history.history['accuracy'], label='accuracy')\n",
    "plt.plot(history.history['val_accuracy'], label = 'val_accuracy')\n",
    "plt.xlabel('Epoch')\n",
    "plt.ylabel('Accuracy')\n",
    "plt.ylim([0, 1])\n",
    "plt.legend(loc='lower right')"
   ],
   "metadata": {
    "collapsed": false
   }
  },
  {
   "cell_type": "code",
   "execution_count": 14,
   "metadata": {
    "id": "bJlbtnJKk7oy"
   },
   "outputs": [
    {
     "name": "stdout",
     "output_type": "stream",
     "text": [
      "313/313 [==============================] - 1s 2ms/step - loss: 0.0329 - accuracy: 0.9928\n",
      "313/313 [==============================] - 0s 1ms/step\n",
      "[2.7536231e-04 2.7567044e-02 2.4414978e-03 2.1988373e-01 9.0106869e-01\n",
      " 1.2542910e-03 1.3755032e-04 1.0000000e+00 2.0760356e-02 9.6610838e-01]\n",
      "0.00028 0.02757 0.00244 0.21988 0.90107 0.00125 0.00014 1.0 0.02076 0.96611  -------------------------------------------------------- \n",
      "The model predicts 7, with a 100.0% certainty.\n"
     ]
    },
    {
     "data": {
      "text/plain": "<matplotlib.image.AxesImage at 0x222bf1edcc0>"
     },
     "execution_count": 14,
     "metadata": {},
     "output_type": "execute_result"
    },
    {
     "data": {
      "text/plain": "<Figure size 640x480 with 1 Axes>",
      "image/png": "[encoded data removed]"
     },
     "metadata": {},
     "output_type": "display_data"
    }
   ],
   "source": [
    "# Evaluating the accuracy on the \"test\" dataset\n",
    "model.evaluate(np.expand_dims(x_test, 3), y_test)\n",
    "\n",
    "# shows you an array of how likely of what number the number is\n",
    "y_predicted = model.predict(np.expand_dims(x_test, 3))\n",
    "\n",
    "# Prints the probability of each number\n",
    "print(y_predicted[0])\n",
    "for i in y_predicted[0]:\n",
    "    print(round(i, 5), end=\" \")\n",
    "\n",
    "print(\" -------------------------------------------------------- \")\n",
    "\n",
    "print(f\"The model predicts {np.argmax(y_predicted[0])}, with a {y_predicted[0].max() * 100}% certainty.\")\n",
    "\n",
    "# Shows the actual number\n",
    "# plt.matshow(x_test[0])\n",
    "plt.imshow(x_test[0], cmap=\"Greys_r\")"
   ]
  },
  {
   "cell_type": "code",
   "execution_count": 16,
   "metadata": {
    "colab": {
     "base_uri": "https://localhost:8080/",
     "height": 298
    },
    "id": "q_pnEpXjLYn9",
    "outputId": "9eee3770-1b36-4ee6-a749-989ca06e0954"
   },
   "outputs": [
    {
     "ename": "OSError",
     "evalue": "not supported for this image mode",
     "output_type": "error",
     "traceback": [
      "\u001B[1;31m---------------------------------------------------------------------------\u001B[0m",
      "\u001B[1;31mOSError\u001B[0m                                   Traceback (most recent call last)",
      "Input \u001B[1;32mIn [16]\u001B[0m, in \u001B[0;36m<cell line: 29>\u001B[1;34m()\u001B[0m\n\u001B[0;32m     27\u001B[0m image \u001B[38;5;241m=\u001B[39m plt\u001B[38;5;241m.\u001B[39mimread(\u001B[38;5;124m\"\u001B[39m\u001B[38;5;124mnumber.png\u001B[39m\u001B[38;5;124m\"\u001B[39m)\n\u001B[0;32m     28\u001B[0m plt\u001B[38;5;241m.\u001B[39mimshow(image)\n\u001B[1;32m---> 29\u001B[0m y_pred \u001B[38;5;241m=\u001B[39m \u001B[43mpredict\u001B[49m\u001B[43m(\u001B[49m\u001B[43mimg\u001B[49m\u001B[43m)\u001B[49m\n\u001B[0;32m     31\u001B[0m \u001B[38;5;28mprint\u001B[39m(\u001B[38;5;241m*\u001B[39my_pred)\n\u001B[0;32m     32\u001B[0m \u001B[38;5;28mprint\u001B[39m(\u001B[38;5;124mf\u001B[39m\u001B[38;5;124m\"\u001B[39m\u001B[38;5;124mThe model predicts \u001B[39m\u001B[38;5;132;01m{\u001B[39;00mnp\u001B[38;5;241m.\u001B[39margmax(y_pred)\u001B[38;5;132;01m}\u001B[39;00m\u001B[38;5;124m, with a \u001B[39m\u001B[38;5;132;01m{\u001B[39;00my_pred\u001B[38;5;241m.\u001B[39mmax() \u001B[38;5;241m*\u001B[39m \u001B[38;5;241m100\u001B[39m\u001B[38;5;132;01m}\u001B[39;00m\u001B[38;5;124m% certaintly rate\u001B[39m\u001B[38;5;124m\"\u001B[39m)\n",
      "Input \u001B[1;32mIn [16]\u001B[0m, in \u001B[0;36mpredict\u001B[1;34m(img)\u001B[0m\n\u001B[0;32m     13\u001B[0m \u001B[38;5;28;01mdef\u001B[39;00m \u001B[38;5;21mpredict\u001B[39m(img):\n\u001B[1;32m---> 14\u001B[0m     img \u001B[38;5;241m=\u001B[39m \u001B[43mImageOps\u001B[49m\u001B[38;5;241;43m.\u001B[39;49m\u001B[43minvert\u001B[49m\u001B[43m(\u001B[49m\u001B[43mimg\u001B[49m\u001B[43m)\u001B[49m \u001B[38;5;66;03m# invert image from white to black to black to white\u001B[39;00m\n\u001B[0;32m     15\u001B[0m     img \u001B[38;5;241m=\u001B[39m img\u001B[38;5;241m.\u001B[39mresize((\u001B[38;5;241m28\u001B[39m,\u001B[38;5;241m28\u001B[39m))\n\u001B[0;32m     16\u001B[0m     img_array \u001B[38;5;241m=\u001B[39m np\u001B[38;5;241m.\u001B[39marray(img) \u001B[38;5;241m/\u001B[39m \u001B[38;5;241m255\u001B[39m \u001B[38;5;66;03m# Recall, we need to normalize to get best results\u001B[39;00m\n",
      "File \u001B[1;32m~\\miniconda3\\envs\\gpu\\lib\\site-packages\\PIL\\ImageOps.py:528\u001B[0m, in \u001B[0;36minvert\u001B[1;34m(image)\u001B[0m\n\u001B[0;32m    526\u001B[0m \u001B[38;5;28;01mfor\u001B[39;00m i \u001B[38;5;129;01min\u001B[39;00m \u001B[38;5;28mrange\u001B[39m(\u001B[38;5;241m256\u001B[39m):\n\u001B[0;32m    527\u001B[0m     lut\u001B[38;5;241m.\u001B[39mappend(\u001B[38;5;241m255\u001B[39m \u001B[38;5;241m-\u001B[39m i)\n\u001B[1;32m--> 528\u001B[0m \u001B[38;5;28;01mreturn\u001B[39;00m image\u001B[38;5;241m.\u001B[39mpoint(lut) \u001B[38;5;28;01mif\u001B[39;00m image\u001B[38;5;241m.\u001B[39mmode \u001B[38;5;241m==\u001B[39m \u001B[38;5;124m\"\u001B[39m\u001B[38;5;124m1\u001B[39m\u001B[38;5;124m\"\u001B[39m \u001B[38;5;28;01melse\u001B[39;00m \u001B[43m_lut\u001B[49m\u001B[43m(\u001B[49m\u001B[43mimage\u001B[49m\u001B[43m,\u001B[49m\u001B[43m \u001B[49m\u001B[43mlut\u001B[49m\u001B[43m)\u001B[49m\n",
      "File \u001B[1;32m~\\miniconda3\\envs\\gpu\\lib\\site-packages\\PIL\\ImageOps.py:58\u001B[0m, in \u001B[0;36m_lut\u001B[1;34m(image, lut)\u001B[0m\n\u001B[0;32m     56\u001B[0m     \u001B[38;5;28;01mreturn\u001B[39;00m image\u001B[38;5;241m.\u001B[39mpoint(lut)\n\u001B[0;32m     57\u001B[0m \u001B[38;5;28;01melse\u001B[39;00m:\n\u001B[1;32m---> 58\u001B[0m     \u001B[38;5;28;01mraise\u001B[39;00m \u001B[38;5;167;01mOSError\u001B[39;00m(\u001B[38;5;124m\"\u001B[39m\u001B[38;5;124mnot supported for this image mode\u001B[39m\u001B[38;5;124m\"\u001B[39m)\n",
      "\u001B[1;31mOSError\u001B[0m: not supported for this image mode"
     ]
    },
    {
     "data": {
      "text/plain": "<Figure size 640x480 with 1 Axes>",
      "image/png": "[encoded data removed]"
     },
     "metadata": {},
     "output_type": "display_data"
    }
   ],
   "source": [
    "img = Image.open(\"number.png\")\n",
    "\n",
    "# Removes the alpha channel, because it wouldn't work\n",
    "def remove_transparency(img, bg_colour=(255, 255, 255)):\n",
    "    if img.mode in ('RGBA', 'LA') or (img.mode == 'P' and 'transparency' in img.info):\n",
    "        alpha = img.convert('RGBA').split()[-1]\n",
    "        bg = Image.new(\"RGBA\", img.size, bg_colour + (255,))\n",
    "        bg.paste(img, mask=alpha)\n",
    "        return bg\n",
    "    else:\n",
    "        return img\n",
    "\n",
    "def predict(img):\n",
    "    img = ImageOps.invert(img) # invert image from white to black to black to white\n",
    "    img = img.resize((28,28))\n",
    "    img_array = np.array(img) / 255 # Recall, we need to normalize to get best results\n",
    "    img_array = np.expand_dims(img_array, axis=0)\n",
    "    img_array = np.expand_dims(img_array, axis=3)\n",
    "    print(img_array.shape) # (1, 28, 28, 1) (batch, width, height, rgb)\n",
    "    y_pred = model.predict(img_array)\n",
    "    return y_pred\n",
    "\n",
    "remove_transparency(img=Image.open(\"number.png\")).save(\"number.png\")\n",
    "img = Image.open(\"number.png\")\n",
    "img = img.convert(\"L\") # Makes the image black and white\n",
    "\n",
    "image = plt.imread(\"number.png\")\n",
    "plt.imshow(image)\n",
    "y_pred = predict(img)\n",
    "\n",
    "print(*y_pred)\n",
    "print(f\"The model predicts {np.argmax(y_pred)}, with a {y_pred.max() * 100}% certainty rate\")\n",
    "\n",
    "plt.imshow(img, cmap=\"Greys_r\")\n",
    "plt.imshow(img.resize((28, 28)), cmap=\"Greys\")\n",
    "\n",
    "# y_predicted = model.predict(np.expand_dims(img, 3))\n",
    "# print(y_predicted[0])\n"
   ]
  },
  {
   "cell_type": "code",
   "execution_count": null,
   "metadata": {
    "id": "f-500CDaKqA_"
   },
   "outputs": [],
   "source": [
    "from google.colab import drive\n",
    "drive.mount('/content/drive')"
   ]
  },
  {
   "cell_type": "code",
   "execution_count": 4,
   "outputs": [],
   "source": [
    "import os\n",
    "\n",
    "os.chdir(r\"C:\\Users\\Kevin Tang\\Documents\\TensorFlow\")"
   ],
   "metadata": {
    "collapsed": false
   }
  }
 ],
 "metadata": {
  "accelerator": "GPU",
  "colab": {
   "collapsed_sections": [],
   "name": "TensorFlow.ipynb",
   "provenance": []
  },
  "kernelspec": {
   "display_name": "Python 3 (ipykernel)",
   "language": "python",
   "name": "python3"
  },
  "vscode": {
   "interpreter": {
    "hash": "5087ff509e6633349df358007c55232fa318767ef4dd0f65247efad137191a73"
   }
  }
 },
 "nbformat": 4,
 "nbformat_minor": 0
}
