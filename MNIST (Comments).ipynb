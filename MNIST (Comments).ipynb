{
 "cells": [
  {
   "cell_type": "code",
   "execution_count": 6,
   "metadata": {
    "colab": {
     "base_uri": "https://localhost:8080/"
    },
    "id": "jVKxIgmxlBdX",
    "outputId": "0be102b8-b239-4daa-e0ba-1069f6afedb2"
   },
   "outputs": [
    {
     "name": "stdout",
     "output_type": "stream",
     "text": [
      "[5 0 4 ... 5 6 8]\n"
     ]
    }
   ],
   "source": [
    "import tensorflow as tf\n",
    "import matplotlib.pyplot as plt\n",
    "import numpy as np\n",
    "\n",
    "mnist = tf.keras.datasets.mnist # Taking a dataset that is already preinstalled\n",
    "\n",
    "# x_train holds all the data, y_train holds all teh labels of the data\n",
    "(x_train, y_train), (x_test, y_test) = mnist.load_data()\n",
    "# Normalizing the RGB codes by dividing it to the max RGB value.\n",
    "x_train, x_test = x_train / 255.0, x_test / 255.0 # Scaling the data, so it improves the accuracy of the machine learning model\n",
    "print(y_train)"
   ]
  },
  {
   "cell_type": "code",
   "execution_count": 2,
   "metadata": {
    "colab": {
     "base_uri": "https://localhost:8080/"
    },
    "id": "PRINJuQMleLQ",
    "outputId": "1964fe24-644e-46e0-cae7-af397d263edd"
   },
   "outputs": [
    {
     "data": {
      "text/plain": "(10000, 28, 28)"
     },
     "execution_count": 2,
     "metadata": {},
     "output_type": "execute_result"
    }
   ],
   "source": [
    "x_train.shape\n",
    "x_test.shape"
   ]
  },
  {
   "cell_type": "code",
   "execution_count": 3,
   "metadata": {
    "colab": {
     "base_uri": "https://localhost:8080/"
    },
    "id": "9K8lhRbIuqaL",
    "outputId": "7a51521b-17b0-48aa-a12a-b47a11d57c3e"
   },
   "outputs": [
    {
     "data": {
      "text/plain": [
       "(10000,)"
      ]
     },
     "execution_count": 3,
     "metadata": {},
     "output_type": "execute_result"
    }
   ],
   "source": [
    "y_train.shape\n",
    "y_test.shape"
   ]
  },
  {
   "cell_type": "code",
   "execution_count": 4,
   "metadata": {
    "colab": {
     "base_uri": "https://localhost:8080/"
    },
    "id": "dzp-siGxvhwT",
    "outputId": "4613b9d5-ae15-4df1-dcd0-a4d3e2471c15"
   },
   "outputs": [
    {
     "data": {
      "text/plain": [
       "(10000,)"
      ]
     },
     "execution_count": 4,
     "metadata": {},
     "output_type": "execute_result"
    }
   ],
   "source": [
    "y_test\n",
    "y_test.shape\n"
   ]
  },
  {
   "cell_type": "code",
   "execution_count": 71,
   "metadata": {
    "colab": {
     "base_uri": "https://localhost:8080/"
    },
    "id": "9urWauNtwsFJ",
    "outputId": "d7c83af0-3793-46f4-e567-b868b2fe5563"
   },
   "outputs": [
    {
     "name": "stdout",
     "output_type": "stream",
     "text": [
      "[[0.         0.         0.         0.         0.         0.\n",
      "  0.         0.         0.         0.         0.         0.\n",
      "  0.         0.         0.         0.         0.         0.\n",
      "  0.         0.         0.         0.         0.         0.\n",
      "  0.         0.         0.         0.        ]\n",
      " [0.         0.         0.         0.         0.         0.\n",
      "  0.         0.         0.         0.         0.         0.\n",
      "  0.         0.         0.         0.         0.         0.\n",
      "  0.         0.         0.         0.         0.         0.\n",
      "  0.         0.         0.         0.        ]\n",
      " [0.         0.         0.         0.         0.         0.\n",
      "  0.         0.         0.         0.         0.         0.\n",
      "  0.         0.         0.         0.         0.         0.\n",
      "  0.         0.         0.         0.         0.         0.\n",
      "  0.         0.         0.         0.        ]\n",
      " [0.         0.         0.         0.         0.         0.\n",
      "  0.         0.         0.         0.         0.         0.\n",
      "  0.         0.         0.         0.         0.         0.\n",
      "  0.         0.         0.         0.         0.         0.\n",
      "  0.         0.         0.         0.        ]\n",
      " [0.         0.         0.         0.         0.         0.\n",
      "  0.         0.         0.         0.         0.         0.\n",
      "  0.         0.         0.         0.         0.         0.\n",
      "  0.         0.         0.         0.         0.         0.\n",
      "  0.         0.         0.         0.        ]\n",
      " [0.         0.         0.         0.         0.         0.\n",
      "  0.         0.         0.         0.         0.         0.\n",
      "  0.01176471 0.07058824 0.07058824 0.07058824 0.49411765 0.53333333\n",
      "  0.68627451 0.10196078 0.65098039 1.         0.96862745 0.49803922\n",
      "  0.         0.         0.         0.        ]\n",
      " [0.         0.         0.         0.         0.         0.\n",
      "  0.         0.         0.11764706 0.14117647 0.36862745 0.60392157\n",
      "  0.66666667 0.99215686 0.99215686 0.99215686 0.99215686 0.99215686\n",
      "  0.88235294 0.6745098  0.99215686 0.94901961 0.76470588 0.25098039\n",
      "  0.         0.         0.         0.        ]\n",
      " [0.         0.         0.         0.         0.         0.\n",
      "  0.         0.19215686 0.93333333 0.99215686 0.99215686 0.99215686\n",
      "  0.99215686 0.99215686 0.99215686 0.99215686 0.99215686 0.98431373\n",
      "  0.36470588 0.32156863 0.32156863 0.21960784 0.15294118 0.\n",
      "  0.         0.         0.         0.        ]\n",
      " [0.         0.         0.         0.         0.         0.\n",
      "  0.         0.07058824 0.85882353 0.99215686 0.99215686 0.99215686\n",
      "  0.99215686 0.99215686 0.77647059 0.71372549 0.96862745 0.94509804\n",
      "  0.         0.         0.         0.         0.         0.\n",
      "  0.         0.         0.         0.        ]\n",
      " [0.         0.         0.         0.         0.         0.\n",
      "  0.         0.         0.31372549 0.61176471 0.41960784 0.99215686\n",
      "  0.99215686 0.80392157 0.04313725 0.         0.16862745 0.60392157\n",
      "  0.         0.         0.         0.         0.         0.\n",
      "  0.         0.         0.         0.        ]\n",
      " [0.         0.         0.         0.         0.         0.\n",
      "  0.         0.         0.         0.05490196 0.00392157 0.60392157\n",
      "  0.99215686 0.35294118 0.         0.         0.         0.\n",
      "  0.         0.         0.         0.         0.         0.\n",
      "  0.         0.         0.         0.        ]\n",
      " [0.         0.         0.         0.         0.         0.\n",
      "  0.         0.         0.         0.         0.         0.54509804\n",
      "  0.99215686 0.74509804 0.00784314 0.         0.         0.\n",
      "  0.         0.         0.         0.         0.         0.\n",
      "  0.         0.         0.         0.        ]\n",
      " [0.         0.         0.         0.         0.         0.\n",
      "  0.         0.         0.         0.         0.         0.04313725\n",
      "  0.74509804 0.99215686 0.2745098  0.         0.         0.\n",
      "  0.         0.         0.         0.         0.         0.\n",
      "  0.         0.         0.         0.        ]\n",
      " [0.         0.         0.         0.         0.         0.\n",
      "  0.         0.         0.         0.         0.         0.\n",
      "  0.1372549  0.94509804 0.88235294 0.62745098 0.42352941 0.00392157\n",
      "  0.         0.         0.         0.         0.         0.\n",
      "  0.         0.         0.         0.        ]\n",
      " [0.         0.         0.         0.         0.         0.\n",
      "  0.         0.         0.         0.         0.         0.\n",
      "  0.         0.31764706 0.94117647 0.99215686 0.99215686 0.46666667\n",
      "  0.09803922 0.         0.         0.         0.         0.\n",
      "  0.         0.         0.         0.        ]\n",
      " [0.         0.         0.         0.         0.         0.\n",
      "  0.         0.         0.         0.         0.         0.\n",
      "  0.         0.         0.17647059 0.72941176 0.99215686 0.99215686\n",
      "  0.58823529 0.10588235 0.         0.         0.         0.\n",
      "  0.         0.         0.         0.        ]\n",
      " [0.         0.         0.         0.         0.         0.\n",
      "  0.         0.         0.         0.         0.         0.\n",
      "  0.         0.         0.         0.0627451  0.36470588 0.98823529\n",
      "  0.99215686 0.73333333 0.         0.         0.         0.\n",
      "  0.         0.         0.         0.        ]\n",
      " [0.         0.         0.         0.         0.         0.\n",
      "  0.         0.         0.         0.         0.         0.\n",
      "  0.         0.         0.         0.         0.         0.97647059\n",
      "  0.99215686 0.97647059 0.25098039 0.         0.         0.\n",
      "  0.         0.         0.         0.        ]\n",
      " [0.         0.         0.         0.         0.         0.\n",
      "  0.         0.         0.         0.         0.         0.\n",
      "  0.         0.         0.18039216 0.50980392 0.71764706 0.99215686\n",
      "  0.99215686 0.81176471 0.00784314 0.         0.         0.\n",
      "  0.         0.         0.         0.        ]\n",
      " [0.         0.         0.         0.         0.         0.\n",
      "  0.         0.         0.         0.         0.         0.\n",
      "  0.15294118 0.58039216 0.89803922 0.99215686 0.99215686 0.99215686\n",
      "  0.98039216 0.71372549 0.         0.         0.         0.\n",
      "  0.         0.         0.         0.        ]\n",
      " [0.         0.         0.         0.         0.         0.\n",
      "  0.         0.         0.         0.         0.09411765 0.44705882\n",
      "  0.86666667 0.99215686 0.99215686 0.99215686 0.99215686 0.78823529\n",
      "  0.30588235 0.         0.         0.         0.         0.\n",
      "  0.         0.         0.         0.        ]\n",
      " [0.         0.         0.         0.         0.         0.\n",
      "  0.         0.         0.09019608 0.25882353 0.83529412 0.99215686\n",
      "  0.99215686 0.99215686 0.99215686 0.77647059 0.31764706 0.00784314\n",
      "  0.         0.         0.         0.         0.         0.\n",
      "  0.         0.         0.         0.        ]\n",
      " [0.         0.         0.         0.         0.         0.\n",
      "  0.07058824 0.67058824 0.85882353 0.99215686 0.99215686 0.99215686\n",
      "  0.99215686 0.76470588 0.31372549 0.03529412 0.         0.\n",
      "  0.         0.         0.         0.         0.         0.\n",
      "  0.         0.         0.         0.        ]\n",
      " [0.         0.         0.         0.         0.21568627 0.6745098\n",
      "  0.88627451 0.99215686 0.99215686 0.99215686 0.99215686 0.95686275\n",
      "  0.52156863 0.04313725 0.         0.         0.         0.\n",
      "  0.         0.         0.         0.         0.         0.\n",
      "  0.         0.         0.         0.        ]\n",
      " [0.         0.         0.         0.         0.53333333 0.99215686\n",
      "  0.99215686 0.99215686 0.83137255 0.52941176 0.51764706 0.0627451\n",
      "  0.         0.         0.         0.         0.         0.\n",
      "  0.         0.         0.         0.         0.         0.\n",
      "  0.         0.         0.         0.        ]\n",
      " [0.         0.         0.         0.         0.         0.\n",
      "  0.         0.         0.         0.         0.         0.\n",
      "  0.         0.         0.         0.         0.         0.\n",
      "  0.         0.         0.         0.         0.         0.\n",
      "  0.         0.         0.         0.        ]\n",
      " [0.         0.         0.         0.         0.         0.\n",
      "  0.         0.         0.         0.         0.         0.\n",
      "  0.         0.         0.         0.         0.         0.\n",
      "  0.         0.         0.         0.         0.         0.\n",
      "  0.         0.         0.         0.        ]\n",
      " [0.         0.         0.         0.         0.         0.\n",
      "  0.         0.         0.         0.         0.         0.\n",
      "  0.         0.         0.         0.         0.         0.\n",
      "  0.         0.         0.         0.         0.         0.\n",
      "  0.         0.         0.         0.        ]]\n"
     ]
    },
    {
     "data": {
      "text/plain": "(28, 28)"
     },
     "execution_count": 71,
     "metadata": {},
     "output_type": "execute_result"
    }
   ],
   "source": [
    "first_pic = x_train[0]\n",
    "print(first_pic)\n",
    "first_pic.shape"
   ]
  },
  {
   "cell_type": "code",
   "execution_count": 6,
   "metadata": {
    "colab": {
     "base_uri": "https://localhost:8080/"
    },
    "id": "edLovntlw9MG",
    "outputId": "58ace031-44d1-41d0-f566-4584090612fc"
   },
   "outputs": [
    {
     "data": {
      "text/plain": [
       "1.0"
      ]
     },
     "execution_count": 6,
     "metadata": {},
     "output_type": "execute_result"
    }
   ],
   "source": [
    "first_pic.max()"
   ]
  },
  {
   "cell_type": "code",
   "execution_count": 5,
   "outputs": [
    {
     "name": "stdout",
     "output_type": "stream",
     "text": [
      "[[[1 2 3 4]\n",
      "  [5 6 7 8]]]\n"
     ]
    },
    {
     "data": {
      "text/plain": "(1, 2, 4)"
     },
     "execution_count": 5,
     "metadata": {},
     "output_type": "execute_result"
    }
   ],
   "source": [
    "a = np.array([[[1,2,3,4], [5,6,7,8]]])\n",
    "print(a)\n",
    "# Checking number of elements in each dimensions\n",
    "a.shape"
   ],
   "metadata": {
    "collapsed": false
   }
  },
  {
   "cell_type": "code",
   "execution_count": 12,
   "metadata": {
    "colab": {
     "base_uri": "https://localhost:8080/"
    },
    "id": "JYO8XijBsUWg",
    "outputId": "b75978c1-dd83-4762-b436-5b486cb52028"
   },
   "outputs": [
    {
     "data": {
      "text/plain": [
       "2"
      ]
     },
     "execution_count": 12,
     "metadata": {},
     "output_type": "execute_result"
    }
   ],
   "source": [
    "# Checks dimensions\n",
    "a.ndim"
   ]
  },
  {
   "cell_type": "code",
   "execution_count": 6,
   "metadata": {
    "colab": {
     "base_uri": "https://localhost:8080/",
     "height": 178
    },
    "id": "RXHYwI98yngg",
    "outputId": "13ff0bd6-7ccb-412c-a234-c451a93312a5"
   },
   "outputs": [],
   "source": [
    "a1 = np.array([1, 2, 3])\n",
    "a2 = np.array([4, 5, 6])"
   ]
  },
  {
   "cell_type": "code",
   "execution_count": 8,
   "outputs": [
    {
     "data": {
      "text/plain": "array([ 4, 10, 18])"
     },
     "execution_count": 8,
     "metadata": {},
     "output_type": "execute_result"
    }
   ],
   "source": [
    "# Matrix Multiplication\n",
    "a1 * a2\n",
    "# Another Example\n",
    "list = []\n",
    "for i, j in zip(a1, a2):\n",
    "  list.append(i * j)\n",
    "print(list)\n",
    "\n",
    "[x[0]*x[1] for x in zip(a1,a2)]\n",
    "[a*b for a,b in zip(a1,a2)]"
   ],
   "metadata": {
    "collapsed": false
   }
  },
  {
   "cell_type": "code",
   "execution_count": 12,
   "metadata": {
    "colab": {
     "base_uri": "https://localhost:8080/",
     "height": 197
    },
    "id": "DkfnR8QzqLA8",
    "outputId": "801a594d-5f6e-47f9-fda3-63ff0fea654e"
   },
   "outputs": [
    {
     "name": "stdout",
     "output_type": "stream",
     "text": [
      "The image at the 0th index is: \n"
     ]
    },
    {
     "data": {
      "text/plain": "<matplotlib.image.AxesImage at 0x2b3c770ad40>"
     },
     "execution_count": 12,
     "metadata": {},
     "output_type": "execute_result"
    },
    {
     "data": {
      "text/plain": "<Figure size 640x480 with 1 Axes>",
      "image/png": "[encoded data removed]"
     },
     "metadata": {},
     "output_type": "display_data"
    }
   ],
   "source": [
    "image_num = 0\n",
    "\n",
    "print(f\"The image at the {image_num}th index is: \")\n",
    "plt.imshow(x_train[image_num], cmap=\"Greys\")"
   ]
  },
  {
   "cell_type": "code",
   "execution_count": 21,
   "metadata": {
    "colab": {
     "base_uri": "https://localhost:8080/"
    },
    "id": "_eBZWiBhwIOT",
    "outputId": "da86c585-6dc9-4235-c54b-0fc071d12a9e"
   },
   "outputs": [
    {
     "data": {
      "text/plain": [
       "array([0, 1, 2, 3, 4, 5, 6, 7, 8, 9], dtype=uint8)"
      ]
     },
     "execution_count": 21,
     "metadata": {},
     "output_type": "execute_result"
    }
   ],
   "source": [
    "y_train[0]\n",
    "np.unique(y_train) # Can see that all numbers from 0 to 9 is included\n",
    "plt.imshow(y_train[0], cmap=\"Greys\")"
   ]
  },
  {
   "cell_type": "code",
   "execution_count": null,
   "outputs": [],
   "source": [
    "one = 0\n",
    "two = 0\n",
    "three = 0\n",
    "four = 0\n",
    "five = 0\n",
    "six = 0\n",
    "seven = 0\n",
    "eight = 0\n",
    "nine = 0\n",
    "\n",
    "for i in y_train:\n",
    "  if i == 1:\n",
    "    one += 1\n",
    "  if i == 2:\n",
    "    two += 1\n",
    "  if i == 3:\n",
    "    three += 1\n",
    "  if i == 4:\n",
    "    four += 1\n",
    "  if i == 5:\n",
    "    five += 1\n",
    "  if i == 6:\n",
    "    six += 1\n",
    "  if i == 7:\n",
    "    seven += 1\n",
    "  if i == 8:\n",
    "    eight += 1\n",
    "  if i == 9:\n",
    "    nine += 1\n",
    "\n",
    "print(one, two, three, four, five, six, seven, eight, nine)\n",
    "\n",
    "from collections import Counter\n",
    "Counter(y_train)"
   ],
   "metadata": {
    "collapsed": false
   }
  },
  {
   "cell_type": "code",
   "execution_count": null,
   "metadata": {
    "colab": {
     "base_uri": "https://localhost:8080/"
    },
    "id": "kt7ossxArYNO",
    "outputId": "b138023d-807a-46f3-bf97-c33a0e8e7845"
   },
   "outputs": [],
   "source": [
    "import random\n",
    "a_list = []\n",
    "for i in range(0, 784):\n",
    "  n  = random.randint(0, 1)\n",
    "  a_list.append(n)\n",
    "a_list"
   ]
  },
  {
   "cell_type": "code",
   "execution_count": 72,
   "metadata": {
    "id": "nt-mGpl5sGnr"
   },
   "outputs": [
    {
     "ename": "NameError",
     "evalue": "name 'random' is not defined",
     "output_type": "error",
     "traceback": [
      "\u001B[1;31m---------------------------------------------------------------------------\u001B[0m",
      "\u001B[1;31mNameError\u001B[0m                                 Traceback (most recent call last)",
      "Input \u001B[1;32mIn [72]\u001B[0m, in \u001B[0;36m<cell line: 1>\u001B[1;34m()\u001B[0m\n\u001B[1;32m----> 1\u001B[0m random_list \u001B[38;5;241m=\u001B[39m [random\u001B[38;5;241m.\u001B[39muniform(\u001B[38;5;241m0\u001B[39m,\u001B[38;5;241m1\u001B[39m) \u001B[38;5;28;01mfor\u001B[39;00m i \u001B[38;5;129;01min\u001B[39;00m \u001B[38;5;28mrange\u001B[39m(\u001B[38;5;241m784\u001B[39m)]\n\u001B[0;32m      2\u001B[0m random_array \u001B[38;5;241m=\u001B[39m np\u001B[38;5;241m.\u001B[39marray(random_list)\n\u001B[0;32m      3\u001B[0m random_array, random_array\u001B[38;5;241m.\u001B[39mshape\n",
      "Input \u001B[1;32mIn [72]\u001B[0m, in \u001B[0;36m<listcomp>\u001B[1;34m(.0)\u001B[0m\n\u001B[1;32m----> 1\u001B[0m random_list \u001B[38;5;241m=\u001B[39m [\u001B[43mrandom\u001B[49m\u001B[38;5;241m.\u001B[39muniform(\u001B[38;5;241m0\u001B[39m,\u001B[38;5;241m1\u001B[39m) \u001B[38;5;28;01mfor\u001B[39;00m i \u001B[38;5;129;01min\u001B[39;00m \u001B[38;5;28mrange\u001B[39m(\u001B[38;5;241m784\u001B[39m)]\n\u001B[0;32m      2\u001B[0m random_array \u001B[38;5;241m=\u001B[39m np\u001B[38;5;241m.\u001B[39marray(random_list)\n\u001B[0;32m      3\u001B[0m random_array, random_array\u001B[38;5;241m.\u001B[39mshape\n",
      "\u001B[1;31mNameError\u001B[0m: name 'random' is not defined"
     ]
    }
   ],
   "source": [
    "random_list = [random.uniform(0,1) for i in range(784)]\n",
    "random_array = np.array(random_list)\n",
    "random_array, random_array.shape"
   ]
  },
  {
   "cell_type": "code",
   "execution_count": 25,
   "metadata": {
    "colab": {
     "base_uri": "https://localhost:8080/"
    },
    "id": "54mQwfi3uS8l",
    "outputId": "57067d15-0352-4551-82af-760fe9dea4a9"
   },
   "outputs": [
    {
     "data": {
      "text/plain": [
       "(28, 28)"
      ]
     },
     "execution_count": 25,
     "metadata": {},
     "output_type": "execute_result"
    }
   ],
   "source": [
    "random_array = random_array.reshape((28,28))\n",
    "random_array.shape"
   ]
  },
  {
   "cell_type": "code",
   "execution_count": 26,
   "metadata": {
    "colab": {
     "base_uri": "https://localhost:8080/",
     "height": 282
    },
    "id": "T3-EJrhks_-p",
    "outputId": "b86fa712-ac9d-4e4b-9b35-2b00befe4d4f"
   },
   "outputs": [
    {
     "data": {
      "text/plain": [
       "<matplotlib.image.AxesImage at 0x1699766e160>"
      ]
     },
     "execution_count": 26,
     "metadata": {},
     "output_type": "execute_result"
    },
    {
     "data": {
      "image/png": "[encoded data removed]",
      "text/plain": [
       "<Figure size 432x288 with 1 Axes>"
      ]
     },
     "metadata": {
      "needs_background": "light"
     },
     "output_type": "display_data"
    }
   ],
   "source": [
    "plt.imshow(random_array, cmap='Greys')"
   ]
  },
  {
   "cell_type": "markdown",
   "source": [
    "# Building Model"
   ],
   "metadata": {
    "collapsed": false
   }
  },
  {
   "cell_type": "code",
   "execution_count": 3,
   "metadata": {
    "colab": {
     "base_uri": "https://localhost:8080/"
    },
    "id": "rQjnGbgSzAza",
    "outputId": "8f3721ff-b822-4d12-ca2a-c4815883f28b"
   },
   "outputs": [
    {
     "name": "stdout",
     "output_type": "stream",
     "text": [
      "Model: \"sequential\"\n",
      "_________________________________________________________________\n",
      " Layer (type)                Output Shape              Param #   \n",
      "=================================================================\n",
      " flatten (Flatten)           (None, 784)               0         \n",
      "                                                                 \n",
      " dense (Dense)               (None, 128)               100480    \n",
      "                                                                 \n",
      " dense_1 (Dense)             (None, 128)               16512     \n",
      "                                                                 \n",
      " dense_2 (Dense)             (None, 128)               16512     \n",
      "                                                                 \n",
      " dense_3 (Dense)             (None, 20)                2580      \n",
      "                                                                 \n",
      "=================================================================\n",
      "Total params: 136,084\n",
      "Trainable params: 136,084\n",
      "Non-trainable params: 0\n",
      "_________________________________________________________________\n"
     ]
    }
   ],
   "source": [
    "import tensorflow as tf\n",
    "from tensorflow.keras.models import Sequential\n",
    "from tensorflow.keras.layers import Flatten, Dense\n",
    "\n",
    "mnist = tf.keras.datasets.mnist\n",
    "\n",
    "(x_train, y_train), (x_test, y_test) = mnist.load_data()\n",
    "x_train, x_test = x_train / 255.0, x_test / 255.0\n",
    "\n",
    "model = Sequential([\n",
    "                    Flatten(input_shape=(28, 28)), # fully conv if not flatten, not using cnn, so no way to put all data into dense layer\n",
    "                    Dense(units = 128, activation=\"relu\"),\n",
    "                    Dense(units = 128, activation=\"relu\"),\n",
    "                    Dense(units = 128, activation=\"relu\"),\n",
    "                    Dense(20, activation = \"softmax\")\n",
    "])\n",
    "\n",
    "model.summary()\n",
    "\n"
   ]
  },
  {
   "cell_type": "code",
   "execution_count": 4,
   "outputs": [
    {
     "name": "stdout",
     "output_type": "stream",
     "text": [
      "Epoch 1/30\n",
      "118/118 [==============================] - 2s 5ms/step - loss: 0.6234 - accuracy: 0.8299 - val_loss: 0.2273 - val_accuracy: 0.9345\n",
      "Epoch 2/30\n",
      "118/118 [==============================] - 0s 3ms/step - loss: 0.1884 - accuracy: 0.9451 - val_loss: 0.1597 - val_accuracy: 0.9496\n",
      "Epoch 3/30\n",
      "118/118 [==============================] - 0s 3ms/step - loss: 0.1314 - accuracy: 0.9602 - val_loss: 0.1201 - val_accuracy: 0.9613\n",
      "Epoch 4/30\n",
      "118/118 [==============================] - 0s 3ms/step - loss: 0.1013 - accuracy: 0.9692 - val_loss: 0.1069 - val_accuracy: 0.9673\n",
      "Epoch 5/30\n",
      "118/118 [==============================] - 0s 3ms/step - loss: 0.0797 - accuracy: 0.9759 - val_loss: 0.0923 - val_accuracy: 0.9697\n",
      "Epoch 6/30\n",
      "118/118 [==============================] - 0s 3ms/step - loss: 0.0667 - accuracy: 0.9801 - val_loss: 0.0870 - val_accuracy: 0.9728\n",
      "Epoch 7/30\n",
      "118/118 [==============================] - 0s 3ms/step - loss: 0.0565 - accuracy: 0.9827 - val_loss: 0.0904 - val_accuracy: 0.9710\n",
      "Epoch 8/30\n",
      "118/118 [==============================] - 0s 3ms/step - loss: 0.0480 - accuracy: 0.9852 - val_loss: 0.0830 - val_accuracy: 0.9737\n",
      "Epoch 9/30\n",
      "118/118 [==============================] - 0s 3ms/step - loss: 0.0411 - accuracy: 0.9878 - val_loss: 0.0837 - val_accuracy: 0.9744\n",
      "Epoch 10/30\n",
      "118/118 [==============================] - 0s 3ms/step - loss: 0.0323 - accuracy: 0.9908 - val_loss: 0.0733 - val_accuracy: 0.9776\n",
      "Epoch 11/30\n",
      "118/118 [==============================] - 0s 3ms/step - loss: 0.0296 - accuracy: 0.9911 - val_loss: 0.0780 - val_accuracy: 0.9769\n",
      "Epoch 12/30\n",
      "118/118 [==============================] - 0s 3ms/step - loss: 0.0240 - accuracy: 0.9928 - val_loss: 0.0878 - val_accuracy: 0.9762\n",
      "Epoch 13/30\n",
      "118/118 [==============================] - 0s 3ms/step - loss: 0.0196 - accuracy: 0.9944 - val_loss: 0.0806 - val_accuracy: 0.9778\n",
      "Epoch 14/30\n",
      "118/118 [==============================] - 0s 3ms/step - loss: 0.0162 - accuracy: 0.9955 - val_loss: 0.0966 - val_accuracy: 0.9742\n",
      "Epoch 15/30\n",
      "118/118 [==============================] - 0s 3ms/step - loss: 0.0223 - accuracy: 0.9927 - val_loss: 0.0851 - val_accuracy: 0.9780\n",
      "Epoch 16/30\n",
      "118/118 [==============================] - 0s 3ms/step - loss: 0.0115 - accuracy: 0.9970 - val_loss: 0.0831 - val_accuracy: 0.9775\n",
      "Epoch 17/30\n",
      "118/118 [==============================] - 0s 3ms/step - loss: 0.0091 - accuracy: 0.9975 - val_loss: 0.0866 - val_accuracy: 0.9781\n",
      "Epoch 18/30\n",
      "118/118 [==============================] - 0s 3ms/step - loss: 0.0066 - accuracy: 0.9986 - val_loss: 0.0844 - val_accuracy: 0.9788\n",
      "Epoch 19/30\n",
      "118/118 [==============================] - 0s 3ms/step - loss: 0.0052 - accuracy: 0.9988 - val_loss: 0.0959 - val_accuracy: 0.9775\n",
      "Epoch 20/30\n",
      "118/118 [==============================] - 0s 3ms/step - loss: 0.0095 - accuracy: 0.9970 - val_loss: 0.0984 - val_accuracy: 0.9776\n",
      "Epoch 21/30\n",
      "118/118 [==============================] - 0s 3ms/step - loss: 0.0094 - accuracy: 0.9973 - val_loss: 0.1084 - val_accuracy: 0.9750\n",
      "Epoch 22/30\n",
      "118/118 [==============================] - 0s 3ms/step - loss: 0.0165 - accuracy: 0.9942 - val_loss: 0.1121 - val_accuracy: 0.9746\n",
      "Epoch 23/30\n",
      "118/118 [==============================] - 0s 3ms/step - loss: 0.0142 - accuracy: 0.9950 - val_loss: 0.0980 - val_accuracy: 0.9788\n",
      "Epoch 24/30\n",
      "118/118 [==============================] - 0s 3ms/step - loss: 0.0050 - accuracy: 0.9987 - val_loss: 0.0965 - val_accuracy: 0.9793\n",
      "Epoch 25/30\n",
      "118/118 [==============================] - 0s 3ms/step - loss: 0.0018 - accuracy: 0.9999 - val_loss: 0.0956 - val_accuracy: 0.9803\n",
      "Epoch 26/30\n",
      "118/118 [==============================] - 0s 3ms/step - loss: 0.0010 - accuracy: 0.9999 - val_loss: 0.0973 - val_accuracy: 0.9802\n",
      "Epoch 27/30\n",
      "118/118 [==============================] - 0s 3ms/step - loss: 9.1226e-04 - accuracy: 1.0000 - val_loss: 0.0992 - val_accuracy: 0.9802\n",
      "Epoch 28/30\n",
      "118/118 [==============================] - 0s 3ms/step - loss: 5.6879e-04 - accuracy: 1.0000 - val_loss: 0.1009 - val_accuracy: 0.9802\n",
      "Epoch 29/30\n",
      "118/118 [==============================] - 0s 3ms/step - loss: 4.7894e-04 - accuracy: 1.0000 - val_loss: 0.1031 - val_accuracy: 0.9803\n",
      "Epoch 30/30\n",
      "118/118 [==============================] - 0s 3ms/step - loss: 3.9247e-04 - accuracy: 1.0000 - val_loss: 0.1042 - val_accuracy: 0.9799\n"
     ]
    }
   ],
   "source": [
    "model.compile(optimizer='adam',\n",
    "              loss='sparse_categorical_crossentropy',\n",
    "              metrics=['accuracy'])\n",
    "\n",
    "history = model.fit(x_train, y_train, epochs=30, batch_size=512, validation_data=(x_test, y_test))"
   ],
   "metadata": {
    "collapsed": false
   }
  },
  {
   "cell_type": "markdown",
   "metadata": {
    "id": "0RYt4GzAY5sg"
   },
   "source": [
    "# Building Model V2"
   ]
  },
  {
   "cell_type": "code",
   "execution_count": 19,
   "metadata": {
    "id": "HFaqwrG7gatF"
   },
   "outputs": [
    {
     "name": "stdout",
     "output_type": "stream",
     "text": [
      "(28, 28)\n",
      "<class 'numpy.ndarray'>\n"
     ]
    }
   ],
   "source": [
    "import tensorflow as tf\n",
    "import numpy as np\n",
    "import matplotlib.pyplot as plt\n",
    "\n",
    "mnist = tf.keras.datasets.mnist\n",
    "\n",
    "(x_train, y_train), (x_test, y_test) = mnist.load_data()\n",
    "\n",
    "# Scaling the data, so it improves the accuracy of the machine learning model\n",
    "x_train, x_test = x_train / 255.0, x_test / 255.0\n",
    "\n",
    "x_train_flattened = x_train.reshape(len(x_train), 28*28)\n",
    "x_test_flattened = x_test.reshape(len(x_test), 28*28)\n",
    "\n",
    "print(x_test[0].shape)\n",
    "print(type(x_test[0]))"
   ]
  },
  {
   "cell_type": "markdown",
   "metadata": {
    "id": "8GDPg0QAY1jT"
   },
   "source": [
    "#Model Training"
   ]
  },
  {
   "cell_type": "code",
   "execution_count": 73,
   "metadata": {
    "colab": {
     "base_uri": "https://localhost:8080/"
    },
    "id": "F9ULw4-4it8i",
    "outputId": "03463496-d4a7-4c0c-ddd9-65fb8fd8eac4"
   },
   "outputs": [
    {
     "name": "stdout",
     "output_type": "stream",
     "text": [
      "[[1]\n",
      " [2]]\n"
     ]
    },
    {
     "data": {
      "text/plain": "(2, 1)"
     },
     "execution_count": 73,
     "metadata": {},
     "output_type": "execute_result"
    }
   ],
   "source": [
    "a = np.array([1,2])\n",
    "a.shape\n",
    "b = np.expand_dims(a, 1)\n",
    "print(b)\n",
    "b.shape"
   ]
  },
  {
   "cell_type": "code",
   "execution_count": 32,
   "metadata": {
    "colab": {
     "base_uri": "https://localhost:8080/"
    },
    "id": "UOU6HNn2jNPJ",
    "outputId": "bf1d4b4a-017e-428b-cd8d-78f58bfd860a"
   },
   "outputs": [
    {
     "data": {
      "text/plain": [
       "(60000, 28, 28)"
      ]
     },
     "execution_count": 32,
     "metadata": {},
     "output_type": "execute_result"
    }
   ],
   "source": [
    "x_train.shape"
   ]
  },
  {
   "cell_type": "code",
   "execution_count": 79,
   "metadata": {
    "colab": {
     "base_uri": "https://localhost:8080/"
    },
    "id": "wicoh9knjIrQ",
    "outputId": "37155a96-2c84-4389-8c64-532e1e27dc62"
   },
   "outputs": [
    {
     "name": "stdout",
     "output_type": "stream",
     "text": [
      "[[0.         0.         0.         0.         0.         0.\n",
      "  0.         0.         0.         0.         0.         0.\n",
      "  0.         0.         0.         0.         0.         0.\n",
      "  0.         0.         0.         0.         0.         0.\n",
      "  0.         0.         0.         0.        ]\n",
      " [0.         0.         0.         0.         0.         0.\n",
      "  0.         0.         0.         0.         0.         0.\n",
      "  0.         0.         0.         0.         0.         0.\n",
      "  0.         0.         0.         0.         0.         0.\n",
      "  0.         0.         0.         0.        ]\n",
      " [0.         0.         0.         0.         0.         0.\n",
      "  0.         0.         0.         0.         0.         0.\n",
      "  0.         0.         0.         0.         0.         0.\n",
      "  0.         0.         0.         0.         0.         0.\n",
      "  0.         0.         0.         0.        ]\n",
      " [0.         0.         0.         0.         0.         0.\n",
      "  0.         0.         0.         0.         0.         0.\n",
      "  0.         0.         0.         0.         0.         0.\n",
      "  0.         0.         0.         0.         0.         0.\n",
      "  0.         0.         0.         0.        ]\n",
      " [0.         0.         0.         0.         0.         0.\n",
      "  0.         0.         0.         0.         0.         0.\n",
      "  0.         0.         0.         0.         0.         0.\n",
      "  0.         0.         0.         0.         0.         0.\n",
      "  0.         0.         0.         0.        ]\n",
      " [0.         0.         0.         0.         0.         0.\n",
      "  0.         0.         0.         0.         0.         0.\n",
      "  0.01176471 0.07058824 0.07058824 0.07058824 0.49411765 0.53333333\n",
      "  0.68627451 0.10196078 0.65098039 1.         0.96862745 0.49803922\n",
      "  0.         0.         0.         0.        ]\n",
      " [0.         0.         0.         0.         0.         0.\n",
      "  0.         0.         0.11764706 0.14117647 0.36862745 0.60392157\n",
      "  0.66666667 0.99215686 0.99215686 0.99215686 0.99215686 0.99215686\n",
      "  0.88235294 0.6745098  0.99215686 0.94901961 0.76470588 0.25098039\n",
      "  0.         0.         0.         0.        ]\n",
      " [0.         0.         0.         0.         0.         0.\n",
      "  0.         0.19215686 0.93333333 0.99215686 0.99215686 0.99215686\n",
      "  0.99215686 0.99215686 0.99215686 0.99215686 0.99215686 0.98431373\n",
      "  0.36470588 0.32156863 0.32156863 0.21960784 0.15294118 0.\n",
      "  0.         0.         0.         0.        ]\n",
      " [0.         0.         0.         0.         0.         0.\n",
      "  0.         0.07058824 0.85882353 0.99215686 0.99215686 0.99215686\n",
      "  0.99215686 0.99215686 0.77647059 0.71372549 0.96862745 0.94509804\n",
      "  0.         0.         0.         0.         0.         0.\n",
      "  0.         0.         0.         0.        ]\n",
      " [0.         0.         0.         0.         0.         0.\n",
      "  0.         0.         0.31372549 0.61176471 0.41960784 0.99215686\n",
      "  0.99215686 0.80392157 0.04313725 0.         0.16862745 0.60392157\n",
      "  0.         0.         0.         0.         0.         0.\n",
      "  0.         0.         0.         0.        ]\n",
      " [0.         0.         0.         0.         0.         0.\n",
      "  0.         0.         0.         0.05490196 0.00392157 0.60392157\n",
      "  0.99215686 0.35294118 0.         0.         0.         0.\n",
      "  0.         0.         0.         0.         0.         0.\n",
      "  0.         0.         0.         0.        ]\n",
      " [0.         0.         0.         0.         0.         0.\n",
      "  0.         0.         0.         0.         0.         0.54509804\n",
      "  0.99215686 0.74509804 0.00784314 0.         0.         0.\n",
      "  0.         0.         0.         0.         0.         0.\n",
      "  0.         0.         0.         0.        ]\n",
      " [0.         0.         0.         0.         0.         0.\n",
      "  0.         0.         0.         0.         0.         0.04313725\n",
      "  0.74509804 0.99215686 0.2745098  0.         0.         0.\n",
      "  0.         0.         0.         0.         0.         0.\n",
      "  0.         0.         0.         0.        ]\n",
      " [0.         0.         0.         0.         0.         0.\n",
      "  0.         0.         0.         0.         0.         0.\n",
      "  0.1372549  0.94509804 0.88235294 0.62745098 0.42352941 0.00392157\n",
      "  0.         0.         0.         0.         0.         0.\n",
      "  0.         0.         0.         0.        ]\n",
      " [0.         0.         0.         0.         0.         0.\n",
      "  0.         0.         0.         0.         0.         0.\n",
      "  0.         0.31764706 0.94117647 0.99215686 0.99215686 0.46666667\n",
      "  0.09803922 0.         0.         0.         0.         0.\n",
      "  0.         0.         0.         0.        ]\n",
      " [0.         0.         0.         0.         0.         0.\n",
      "  0.         0.         0.         0.         0.         0.\n",
      "  0.         0.         0.17647059 0.72941176 0.99215686 0.99215686\n",
      "  0.58823529 0.10588235 0.         0.         0.         0.\n",
      "  0.         0.         0.         0.        ]\n",
      " [0.         0.         0.         0.         0.         0.\n",
      "  0.         0.         0.         0.         0.         0.\n",
      "  0.         0.         0.         0.0627451  0.36470588 0.98823529\n",
      "  0.99215686 0.73333333 0.         0.         0.         0.\n",
      "  0.         0.         0.         0.        ]\n",
      " [0.         0.         0.         0.         0.         0.\n",
      "  0.         0.         0.         0.         0.         0.\n",
      "  0.         0.         0.         0.         0.         0.97647059\n",
      "  0.99215686 0.97647059 0.25098039 0.         0.         0.\n",
      "  0.         0.         0.         0.        ]\n",
      " [0.         0.         0.         0.         0.         0.\n",
      "  0.         0.         0.         0.         0.         0.\n",
      "  0.         0.         0.18039216 0.50980392 0.71764706 0.99215686\n",
      "  0.99215686 0.81176471 0.00784314 0.         0.         0.\n",
      "  0.         0.         0.         0.        ]\n",
      " [0.         0.         0.         0.         0.         0.\n",
      "  0.         0.         0.         0.         0.         0.\n",
      "  0.15294118 0.58039216 0.89803922 0.99215686 0.99215686 0.99215686\n",
      "  0.98039216 0.71372549 0.         0.         0.         0.\n",
      "  0.         0.         0.         0.        ]\n",
      " [0.         0.         0.         0.         0.         0.\n",
      "  0.         0.         0.         0.         0.09411765 0.44705882\n",
      "  0.86666667 0.99215686 0.99215686 0.99215686 0.99215686 0.78823529\n",
      "  0.30588235 0.         0.         0.         0.         0.\n",
      "  0.         0.         0.         0.        ]\n",
      " [0.         0.         0.         0.         0.         0.\n",
      "  0.         0.         0.09019608 0.25882353 0.83529412 0.99215686\n",
      "  0.99215686 0.99215686 0.99215686 0.77647059 0.31764706 0.00784314\n",
      "  0.         0.         0.         0.         0.         0.\n",
      "  0.         0.         0.         0.        ]\n",
      " [0.         0.         0.         0.         0.         0.\n",
      "  0.07058824 0.67058824 0.85882353 0.99215686 0.99215686 0.99215686\n",
      "  0.99215686 0.76470588 0.31372549 0.03529412 0.         0.\n",
      "  0.         0.         0.         0.         0.         0.\n",
      "  0.         0.         0.         0.        ]\n",
      " [0.         0.         0.         0.         0.21568627 0.6745098\n",
      "  0.88627451 0.99215686 0.99215686 0.99215686 0.99215686 0.95686275\n",
      "  0.52156863 0.04313725 0.         0.         0.         0.\n",
      "  0.         0.         0.         0.         0.         0.\n",
      "  0.         0.         0.         0.        ]\n",
      " [0.         0.         0.         0.         0.53333333 0.99215686\n",
      "  0.99215686 0.99215686 0.83137255 0.52941176 0.51764706 0.0627451\n",
      "  0.         0.         0.         0.         0.         0.\n",
      "  0.         0.         0.         0.         0.         0.\n",
      "  0.         0.         0.         0.        ]\n",
      " [0.         0.         0.         0.         0.         0.\n",
      "  0.         0.         0.         0.         0.         0.\n",
      "  0.         0.         0.         0.         0.         0.\n",
      "  0.         0.         0.         0.         0.         0.\n",
      "  0.         0.         0.         0.        ]\n",
      " [0.         0.         0.         0.         0.         0.\n",
      "  0.         0.         0.         0.         0.         0.\n",
      "  0.         0.         0.         0.         0.         0.\n",
      "  0.         0.         0.         0.         0.         0.\n",
      "  0.         0.         0.         0.        ]\n",
      " [0.         0.         0.         0.         0.         0.\n",
      "  0.         0.         0.         0.         0.         0.\n",
      "  0.         0.         0.         0.         0.         0.\n",
      "  0.         0.         0.         0.         0.         0.\n",
      "  0.         0.         0.         0.        ]]\n"
     ]
    }
   ],
   "source": [
    "np.expand_dims(x_train, 3).shape\n",
    "print(x_train[0])"
   ]
  },
  {
   "cell_type": "code",
   "execution_count": 8,
   "metadata": {
    "colab": {
     "base_uri": "https://localhost:8080/"
    },
    "id": "KYqvKtjfYvw4",
    "outputId": "cbe12b2d-54d6-4f0c-f542-10fa86a582e1"
   },
   "outputs": [
    {
     "name": "stdout",
     "output_type": "stream",
     "text": [
      "Model: \"sequential\"\n",
      "_________________________________________________________________\n",
      " Layer (type)                Output Shape              Param #   \n",
      "=================================================================\n",
      " conv2d (Conv2D)             (None, 28, 28, 32)        320       \n",
      "                                                                 \n",
      " max_pooling2d (MaxPooling2D  (None, 14, 14, 32)       0         \n",
      " )                                                               \n",
      "                                                                 \n",
      " conv2d_1 (Conv2D)           (None, 14, 14, 64)        18496     \n",
      "                                                                 \n",
      " max_pooling2d_1 (MaxPooling  (None, 7, 7, 64)         0         \n",
      " 2D)                                                             \n",
      "                                                                 \n",
      " conv2d_2 (Conv2D)           (None, 7, 7, 128)         73856     \n",
      "                                                                 \n",
      " flatten (Flatten)           (None, 6272)              0         \n",
      "                                                                 \n",
      " dropout (Dropout)           (None, 6272)              0         \n",
      "                                                                 \n",
      " dense (Dense)               (None, 784)               4918032   \n",
      "                                                                 \n",
      " dense_1 (Dense)             (None, 400)               314000    \n",
      "                                                                 \n",
      " dense_2 (Dense)             (None, 10)                4010      \n",
      "                                                                 \n",
      "=================================================================\n",
      "Total params: 5,328,714\n",
      "Trainable params: 5,328,714\n",
      "Non-trainable params: 0\n",
      "_________________________________________________________________\n"
     ]
    }
   ],
   "source": [
    "from tensorflow.keras.models import Sequential\n",
    "from tensorflow import keras\n",
    "from tensorflow.keras.layers import Flatten, Dense, Conv2D, MaxPooling2D, Dropout\n",
    "\n",
    "# model = keras.Sequential([\n",
    "#     keras.layers.Dense(784, input_shape=(784,), activation='relu'),\n",
    "#     keras.layers.Dense(400, activation='relu'),\n",
    "#     keras.layers.Dense(10, activation='sigmoid')\n",
    "# ])\n",
    "\n",
    "model = keras.Sequential([\n",
    "    Conv2D(filters=32, kernel_size=(3, 3), padding=\"same\", activation='relu', input_shape = (28, 28, 1)),\n",
    "    MaxPooling2D(pool_size = (2, 2)),\n",
    "    Conv2D(filters=64, kernel_size=(3, 3), padding=\"same\", activation='relu'),\n",
    "    MaxPooling2D(pool_size = (2, 2)),\n",
    "    Conv2D(filters=128, kernel_size=(3, 3), padding=\"same\", activation='relu'),\n",
    "    Flatten(),\n",
    "    Dropout(0.2), # Talk about dropout\n",
    "    Dense(784, activation='relu'),\n",
    "    Dense(400, activation='relu'),\n",
    "    Dense(10, activation='sigmoid')\n",
    "])\n",
    "\n",
    "model.compile(optimizer='adam',\n",
    "              loss='sparse_categorical_crossentropy',\n",
    "              metrics=['accuracy'])\n",
    "\n",
    "model.summary()\n"
   ]
  },
  {
   "cell_type": "code",
   "execution_count": null,
   "outputs": [],
   "source": [
    "# Defining it to a var so we can get the data later on\n",
    "history = model.fit(np.expand_dims(x_train, 3), y_train, epochs=30, batch_size=512, validation_data=(np.expand_dims(x_test, 3), y_test))\n",
    "# history = model.fit(x_train_flattened, y_train, epochs=30, validation_data=(x_test_flattened, y_test))\n"
   ],
   "metadata": {
    "collapsed": false,
    "pycharm": {
     "is_executing": true
    }
   }
  },
  {
   "cell_type": "markdown",
   "metadata": {
    "id": "QRoFgzuzowgc"
   },
   "source": [
    "#Save/Load"
   ]
  },
  {
   "cell_type": "code",
   "execution_count": 15,
   "metadata": {
    "id": "2UG5wy6ipCVy"
   },
   "outputs": [],
   "source": [
    "model.save(\"MNIST.h5\")"
   ]
  },
  {
   "cell_type": "code",
   "execution_count": 9,
   "outputs": [],
   "source": [
    "model = tf.keras.models.load_model('MNIST.h5')"
   ],
   "metadata": {
    "collapsed": false
   }
  },
  {
   "cell_type": "markdown",
   "metadata": {
    "id": "9IZ8Uc01k8ei"
   },
   "source": [
    "#Prediction"
   ]
  },
  {
   "cell_type": "code",
   "execution_count": null,
   "outputs": [],
   "source": [
    "import os\n",
    "\n",
    "# os.chdir(r\"C:\\Users\\Kevin Tang\\Documents\\TensorFlow\")\n",
    "\n",
    "# !git clone https://gist.github.com/8409b3feec20f159d8a50b0a811d3bca.git colab_draw\n",
    "\n",
    "%run collab_draw/draw.py\n",
    "\n",
    "draw(filename = \"number.png\", w=400, h=400, line_width=15)"
   ],
   "metadata": {
    "collapsed": false,
    "pycharm": {
     "is_executing": true
    }
   }
  },
  {
   "cell_type": "code",
   "execution_count": 80,
   "metadata": {
    "id": "bJlbtnJKk7oy"
   },
   "outputs": [
    {
     "name": "stdout",
     "output_type": "stream",
     "text": [
      "313/313 [==============================] - 1s 4ms/step - loss: 0.0329 - accuracy: 0.9928\n",
      "313/313 [==============================] - 0s 1ms/step\n",
      "[2.7545632e-04 2.7544299e-02 2.4415767e-03 2.1975507e-01 9.0109628e-01\n",
      " 1.2550318e-03 1.3760227e-04 1.0000000e+00 2.0777371e-02 9.6609771e-01]\n",
      "0.00028 0.02754 0.00244 0.21976 0.9011 0.00126 0.00014 1.0 0.02078 0.9661  -------------------------------------------------------- \n",
      "The model predicts 7, with a 100.0% certainty.\n"
     ]
    },
    {
     "data": {
      "text/plain": "<matplotlib.image.AxesImage at 0x2147931bfd0>"
     },
     "execution_count": 80,
     "metadata": {},
     "output_type": "execute_result"
    },
    {
     "data": {
      "text/plain": "<Figure size 640x480 with 1 Axes>",
      "image/png": "[encoded data removed]"
     },
     "metadata": {},
     "output_type": "display_data"
    }
   ],
   "source": [
    "# Evaluating the accuracy on the \"test\" dataset\n",
    "model.evaluate(np.expand_dims(x_test, 3), y_test)\n",
    "\n",
    "# shows you an array of how likely of what number the number is\n",
    "y_predicted = model.predict(np.expand_dims(x_test, 3))\n",
    "\n",
    "print(y_predicted[0])\n",
    "for i in y_predicted[0]:\n",
    "    print(round(i, 5), end=\" \")\n",
    "\n",
    "print(\" -------------------------------------------------------- \")\n",
    "\n",
    "print(f\"The model predicts {np.argmax(y_predicted[0])}, with a {y_predicted[0].max() * 100}% certainty.\")\n",
    "\n",
    "# Shows the actual number\n",
    "# plt.matshow(x_test[0])\n",
    "plt.imshow(x_test[0], cmap=\"Greys_r\")"
   ]
  },
  {
   "cell_type": "code",
   "execution_count": 2,
   "outputs": [],
   "source": [
    "from PIL import Image, ImageOps\n",
    "\n",
    "def resize(img):\n",
    "    resized_img = img.resize((28, 28), Image.ANTIALIAS)\n",
    "    resized_img.save(\"number.png\")\n",
    "\n",
    "    # img = cv.imread('number.png')\n",
    "    # img = np.float32(img) # Converting in to numpy array\n",
    "    # img.flatten()\n",
    "    return img"
   ],
   "metadata": {
    "collapsed": false
   }
  },
  {
   "cell_type": "code",
   "execution_count": 10,
   "metadata": {
    "colab": {
     "base_uri": "https://localhost:8080/",
     "height": 298
    },
    "id": "q_pnEpXjLYn9",
    "outputId": "9eee3770-1b36-4ee6-a749-989ca06e0954"
   },
   "outputs": [
    {
     "name": "stdout",
     "output_type": "stream",
     "text": [
      "(1, 28, 28, 1)\n",
      "1/1 [==============================] - 5s 5s/step\n",
      "[0.99999857 0.00290512 0.02521893 0.03527768 0.00689436 0.4425831\n",
      " 0.13213843 0.23420262 0.19287272 0.69939965]\n",
      "The model predicts 0, with a 99.99985694885254% certaintly rate\n"
     ]
    },
    {
     "data": {
      "text/plain": "<matplotlib.image.AxesImage at 0x1dd894033a0>"
     },
     "execution_count": 10,
     "metadata": {},
     "output_type": "execute_result"
    },
    {
     "data": {
      "text/plain": "<Figure size 640x480 with 1 Axes>",
      "image/png": "[encoded data removed]"
     },
     "metadata": {},
     "output_type": "display_data"
    }
   ],
   "source": [
    "img = Image.open(\"number.png\")\n",
    "\n",
    "# Removes the alpha channel, because it wouldn't work\n",
    "def remove_transparency(img, bg_colour=(255, 255, 255)):\n",
    "    if img.mode in ('RGBA', 'LA') or (img.mode == 'P' and 'transparency' in img.info):\n",
    "        alpha = img.convert('RGBA').split()[-1]\n",
    "        bg = Image.new(\"RGBA\", img.size, bg_colour + (255,))\n",
    "        bg.paste(img, mask=alpha)\n",
    "        return bg\n",
    "    else:\n",
    "        return img\n",
    "\n",
    "def predict(img):\n",
    "    img = ImageOps.invert(img) # invert image from white to black to black to white\n",
    "    img = img.resize((28,28))\n",
    "    img_array = np.array(img) / 255 # Recall, we need to normalize to get best results\n",
    "    img_array = np.expand_dims(img_array, axis=0)\n",
    "    img_array = np.expand_dims(img_array, axis=3)\n",
    "    print(img_array.shape) # (1, 28, 28, 1) (batch, width, height, rgb)\n",
    "    y_pred = model.predict(img_array)\n",
    "    return y_pred\n",
    "\n",
    "remove_transparency(img=Image.open(\"number.png\")).save(\"number.png\")\n",
    "img = Image.open(\"number.png\")\n",
    "img = img.convert(\"L\") # Makes the image black and white\n",
    "\n",
    "image = plt.imread(\"number.png\")\n",
    "plt.imshow(image)\n",
    "y_pred = predict(img)\n",
    "\n",
    "print(*y_pred)\n",
    "print(f\"The model predicts {np.argmax(y_pred)}, with a {y_pred.max() * 100}% certaintly rate\")\n",
    "\n",
    "plt.imshow(img, cmap=\"Greys_r\")\n",
    "\n",
    "# y_predicted = model.predict(np.expand_dims(img, 3))\n",
    "# print(y_predicted[0])\n"
   ]
  },
  {
   "cell_type": "code",
   "execution_count": null,
   "metadata": {
    "id": "f-500CDaKqA_"
   },
   "outputs": [],
   "source": [
    "from google.colab import drive\n",
    "drive.mount('/content/drive')"
   ]
  },
  {
   "cell_type": "code",
   "execution_count": 4,
   "outputs": [],
   "source": [
    "import os\n",
    "\n",
    "os.chdir(r\"C:\\Users\\Kevin Tang\\Documents\\TensorFlow\")"
   ],
   "metadata": {
    "collapsed": false
   }
  },
  {
   "cell_type": "code",
   "execution_count": null,
   "outputs": [],
   "source": [],
   "metadata": {
    "collapsed": false
   }
  }
 ],
 "metadata": {
  "accelerator": "GPU",
  "colab": {
   "collapsed_sections": [],
   "name": "TensorFlow.ipynb",
   "provenance": []
  },
  "kernelspec": {
   "display_name": "Python 3 (ipykernel)",
   "language": "python",
   "name": "python3"
  },
  "vscode": {
   "interpreter": {
    "hash": "5087ff509e6633349df358007c55232fa318767ef4dd0f65247efad137191a73"
   }
  }
 },
 "nbformat": 4,
 "nbformat_minor": 0
}
