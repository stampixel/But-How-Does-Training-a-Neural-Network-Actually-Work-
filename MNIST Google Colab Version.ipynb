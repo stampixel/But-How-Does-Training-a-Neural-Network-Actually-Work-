{
 "cells": [
  {
   "cell_type": "code",
   "execution_count": 2,
   "metadata": {
    "colab": {
     "base_uri": "https://localhost:8080/"
    },
    "id": "jVKxIgmxlBdX",
    "outputId": "6d75bee5-cf0e-4571-c31c-20820a0ec02e"
   },
   "outputs": [
    {
     "output_type": "stream",
     "name": "stdout",
     "text": [
      "Downloading data from https://storage.googleapis.com/tensorflow/tf-keras-datasets/mnist.npz\n",
      "11490434/11490434 [==============================] - 1s 0us/step\n",
      "[5 0 4 ... 5 6 8]\n"
     ]
    }
   ],
   "source": [
    "import tensorflow as tf\n",
    "import matplotlib.pyplot as plt\n",
    "import numpy as np\n",
    "import os\n",
    "from PIL import Image, ImageOps\n",
    "\n",
    "mnist = tf.keras.datasets.mnist # Taking a dataset that is already preinstalled\n",
    "\n",
    "# x_train holds all the data, y_train holds all teh labels of the data\n",
    "(x_train, y_train), (x_test, y_test) = mnist.load_data()\n",
    "# Normalizing the RGB codes by dividing it to the max RGB value.\n",
    "x_train, x_test = x_train / 255.0, x_test / 255.0 # Scaling the data, so it improves the accuracy of the machine learning model\n",
    "# Talk about the test data set\n",
    "print(y_train)"
   ]
  },
  {
   "cell_type": "code",
   "source": [
    "example_array = np.array([[[1,2,3,4], [5,6,7,8]]])\n",
    "print(example_array)\n",
    "# Checking number of elements in each dimensions\n",
    "print(f\"The shape of the array is: {example_array.shape}\")\n",
    "print(f\"The array has {example_array.ndim} dimensions\")"
   ],
   "metadata": {
    "id": "2UaSVCaemTPJ"
   },
   "execution_count": null,
   "outputs": []
  },
  {
   "cell_type": "code",
   "execution_count": 4,
   "metadata": {
    "colab": {
     "base_uri": "https://localhost:8080/"
    },
    "id": "PRINJuQMleLQ",
    "outputId": "49826dc3-7475-4655-ee47-738ef7306db3",
    "pycharm": {
     "is_executing": true
    }
   },
   "outputs": [
    {
     "output_type": "stream",
     "name": "stdout",
     "text": [
      "(60000, 28, 28)\n"
     ]
    },
    {
     "output_type": "execute_result",
     "data": {
      "text/plain": [
       "(10000, 28, 28)"
      ]
     },
     "metadata": {},
     "execution_count": 4
    }
   ],
   "source": [
    "print(x_train.shape)\n",
    "x_test.shape"
   ]
  },
  {
   "cell_type": "code",
   "execution_count": 5,
   "metadata": {
    "colab": {
     "base_uri": "https://localhost:8080/"
    },
    "id": "9K8lhRbIuqaL",
    "outputId": "822144df-9e04-4c25-e21a-527c799ee59b",
    "pycharm": {
     "is_executing": true
    }
   },
   "outputs": [
    {
     "output_type": "stream",
     "name": "stdout",
     "text": [
      "(60000,)\n"
     ]
    },
    {
     "output_type": "execute_result",
     "data": {
      "text/plain": [
       "(10000,)"
      ]
     },
     "metadata": {},
     "execution_count": 5
    }
   ],
   "source": [
    "print(y_train.shape)\n",
    "y_test.shape"
   ]
  },
  {
   "cell_type": "code",
   "execution_count": 6,
   "metadata": {
    "colab": {
     "base_uri": "https://localhost:8080/"
    },
    "id": "dzp-siGxvhwT",
    "outputId": "ee10ffca-b75e-4a6b-d43d-3c32284187d2",
    "pycharm": {
     "is_executing": true
    }
   },
   "outputs": [
    {
     "output_type": "stream",
     "name": "stdout",
     "text": [
      "[7 2 1 ... 4 5 6]\n"
     ]
    },
    {
     "output_type": "execute_result",
     "data": {
      "text/plain": [
       "(10000,)"
      ]
     },
     "metadata": {},
     "execution_count": 6
    }
   ],
   "source": [
    "print(y_test)\n",
    "y_test.shape"
   ]
  },
  {
   "cell_type": "code",
   "execution_count": 7,
   "metadata": {
    "colab": {
     "base_uri": "https://localhost:8080/"
    },
    "id": "9urWauNtwsFJ",
    "outputId": "e2451d57-6008-42ac-8046-a57b6a9572c1",
    "pycharm": {
     "is_executing": true
    }
   },
   "outputs": [
    {
     "output_type": "stream",
     "name": "stdout",
     "text": [
      "[[0.         0.         0.         0.         0.         0.\n",
      "  0.         0.         0.         0.         0.         0.\n",
      "  0.         0.         0.         0.         0.         0.\n",
      "  0.         0.         0.         0.         0.         0.\n",
      "  0.         0.         0.         0.        ]\n",
      " [0.         0.         0.         0.         0.         0.\n",
      "  0.         0.         0.         0.         0.         0.\n",
      "  0.         0.         0.         0.         0.         0.\n",
      "  0.         0.         0.         0.         0.         0.\n",
      "  0.         0.         0.         0.        ]\n",
      " [0.         0.         0.         0.         0.         0.\n",
      "  0.         0.         0.         0.         0.         0.\n",
      "  0.         0.         0.         0.         0.         0.\n",
      "  0.         0.         0.         0.         0.         0.\n",
      "  0.         0.         0.         0.        ]\n",
      " [0.         0.         0.         0.         0.         0.\n",
      "  0.         0.         0.         0.         0.         0.\n",
      "  0.         0.         0.         0.         0.         0.\n",
      "  0.         0.         0.         0.         0.         0.\n",
      "  0.         0.         0.         0.        ]\n",
      " [0.         0.         0.         0.         0.         0.\n",
      "  0.         0.         0.         0.         0.         0.\n",
      "  0.         0.         0.         0.         0.         0.\n",
      "  0.         0.         0.         0.         0.         0.\n",
      "  0.         0.         0.         0.        ]\n",
      " [0.         0.         0.         0.         0.         0.\n",
      "  0.         0.         0.         0.         0.         0.\n",
      "  0.01176471 0.07058824 0.07058824 0.07058824 0.49411765 0.53333333\n",
      "  0.68627451 0.10196078 0.65098039 1.         0.96862745 0.49803922\n",
      "  0.         0.         0.         0.        ]\n",
      " [0.         0.         0.         0.         0.         0.\n",
      "  0.         0.         0.11764706 0.14117647 0.36862745 0.60392157\n",
      "  0.66666667 0.99215686 0.99215686 0.99215686 0.99215686 0.99215686\n",
      "  0.88235294 0.6745098  0.99215686 0.94901961 0.76470588 0.25098039\n",
      "  0.         0.         0.         0.        ]\n",
      " [0.         0.         0.         0.         0.         0.\n",
      "  0.         0.19215686 0.93333333 0.99215686 0.99215686 0.99215686\n",
      "  0.99215686 0.99215686 0.99215686 0.99215686 0.99215686 0.98431373\n",
      "  0.36470588 0.32156863 0.32156863 0.21960784 0.15294118 0.\n",
      "  0.         0.         0.         0.        ]\n",
      " [0.         0.         0.         0.         0.         0.\n",
      "  0.         0.07058824 0.85882353 0.99215686 0.99215686 0.99215686\n",
      "  0.99215686 0.99215686 0.77647059 0.71372549 0.96862745 0.94509804\n",
      "  0.         0.         0.         0.         0.         0.\n",
      "  0.         0.         0.         0.        ]\n",
      " [0.         0.         0.         0.         0.         0.\n",
      "  0.         0.         0.31372549 0.61176471 0.41960784 0.99215686\n",
      "  0.99215686 0.80392157 0.04313725 0.         0.16862745 0.60392157\n",
      "  0.         0.         0.         0.         0.         0.\n",
      "  0.         0.         0.         0.        ]\n",
      " [0.         0.         0.         0.         0.         0.\n",
      "  0.         0.         0.         0.05490196 0.00392157 0.60392157\n",
      "  0.99215686 0.35294118 0.         0.         0.         0.\n",
      "  0.         0.         0.         0.         0.         0.\n",
      "  0.         0.         0.         0.        ]\n",
      " [0.         0.         0.         0.         0.         0.\n",
      "  0.         0.         0.         0.         0.         0.54509804\n",
      "  0.99215686 0.74509804 0.00784314 0.         0.         0.\n",
      "  0.         0.         0.         0.         0.         0.\n",
      "  0.         0.         0.         0.        ]\n",
      " [0.         0.         0.         0.         0.         0.\n",
      "  0.         0.         0.         0.         0.         0.04313725\n",
      "  0.74509804 0.99215686 0.2745098  0.         0.         0.\n",
      "  0.         0.         0.         0.         0.         0.\n",
      "  0.         0.         0.         0.        ]\n",
      " [0.         0.         0.         0.         0.         0.\n",
      "  0.         0.         0.         0.         0.         0.\n",
      "  0.1372549  0.94509804 0.88235294 0.62745098 0.42352941 0.00392157\n",
      "  0.         0.         0.         0.         0.         0.\n",
      "  0.         0.         0.         0.        ]\n",
      " [0.         0.         0.         0.         0.         0.\n",
      "  0.         0.         0.         0.         0.         0.\n",
      "  0.         0.31764706 0.94117647 0.99215686 0.99215686 0.46666667\n",
      "  0.09803922 0.         0.         0.         0.         0.\n",
      "  0.         0.         0.         0.        ]\n",
      " [0.         0.         0.         0.         0.         0.\n",
      "  0.         0.         0.         0.         0.         0.\n",
      "  0.         0.         0.17647059 0.72941176 0.99215686 0.99215686\n",
      "  0.58823529 0.10588235 0.         0.         0.         0.\n",
      "  0.         0.         0.         0.        ]\n",
      " [0.         0.         0.         0.         0.         0.\n",
      "  0.         0.         0.         0.         0.         0.\n",
      "  0.         0.         0.         0.0627451  0.36470588 0.98823529\n",
      "  0.99215686 0.73333333 0.         0.         0.         0.\n",
      "  0.         0.         0.         0.        ]\n",
      " [0.         0.         0.         0.         0.         0.\n",
      "  0.         0.         0.         0.         0.         0.\n",
      "  0.         0.         0.         0.         0.         0.97647059\n",
      "  0.99215686 0.97647059 0.25098039 0.         0.         0.\n",
      "  0.         0.         0.         0.        ]\n",
      " [0.         0.         0.         0.         0.         0.\n",
      "  0.         0.         0.         0.         0.         0.\n",
      "  0.         0.         0.18039216 0.50980392 0.71764706 0.99215686\n",
      "  0.99215686 0.81176471 0.00784314 0.         0.         0.\n",
      "  0.         0.         0.         0.        ]\n",
      " [0.         0.         0.         0.         0.         0.\n",
      "  0.         0.         0.         0.         0.         0.\n",
      "  0.15294118 0.58039216 0.89803922 0.99215686 0.99215686 0.99215686\n",
      "  0.98039216 0.71372549 0.         0.         0.         0.\n",
      "  0.         0.         0.         0.        ]\n",
      " [0.         0.         0.         0.         0.         0.\n",
      "  0.         0.         0.         0.         0.09411765 0.44705882\n",
      "  0.86666667 0.99215686 0.99215686 0.99215686 0.99215686 0.78823529\n",
      "  0.30588235 0.         0.         0.         0.         0.\n",
      "  0.         0.         0.         0.        ]\n",
      " [0.         0.         0.         0.         0.         0.\n",
      "  0.         0.         0.09019608 0.25882353 0.83529412 0.99215686\n",
      "  0.99215686 0.99215686 0.99215686 0.77647059 0.31764706 0.00784314\n",
      "  0.         0.         0.         0.         0.         0.\n",
      "  0.         0.         0.         0.        ]\n",
      " [0.         0.         0.         0.         0.         0.\n",
      "  0.07058824 0.67058824 0.85882353 0.99215686 0.99215686 0.99215686\n",
      "  0.99215686 0.76470588 0.31372549 0.03529412 0.         0.\n",
      "  0.         0.         0.         0.         0.         0.\n",
      "  0.         0.         0.         0.        ]\n",
      " [0.         0.         0.         0.         0.21568627 0.6745098\n",
      "  0.88627451 0.99215686 0.99215686 0.99215686 0.99215686 0.95686275\n",
      "  0.52156863 0.04313725 0.         0.         0.         0.\n",
      "  0.         0.         0.         0.         0.         0.\n",
      "  0.         0.         0.         0.        ]\n",
      " [0.         0.         0.         0.         0.53333333 0.99215686\n",
      "  0.99215686 0.99215686 0.83137255 0.52941176 0.51764706 0.0627451\n",
      "  0.         0.         0.         0.         0.         0.\n",
      "  0.         0.         0.         0.         0.         0.\n",
      "  0.         0.         0.         0.        ]\n",
      " [0.         0.         0.         0.         0.         0.\n",
      "  0.         0.         0.         0.         0.         0.\n",
      "  0.         0.         0.         0.         0.         0.\n",
      "  0.         0.         0.         0.         0.         0.\n",
      "  0.         0.         0.         0.        ]\n",
      " [0.         0.         0.         0.         0.         0.\n",
      "  0.         0.         0.         0.         0.         0.\n",
      "  0.         0.         0.         0.         0.         0.\n",
      "  0.         0.         0.         0.         0.         0.\n",
      "  0.         0.         0.         0.        ]\n",
      " [0.         0.         0.         0.         0.         0.\n",
      "  0.         0.         0.         0.         0.         0.\n",
      "  0.         0.         0.         0.         0.         0.\n",
      "  0.         0.         0.         0.         0.         0.\n",
      "  0.         0.         0.         0.        ]]\n"
     ]
    },
    {
     "output_type": "execute_result",
     "data": {
      "text/plain": [
       "(28, 28)"
      ]
     },
     "metadata": {},
     "execution_count": 7
    }
   ],
   "source": [
    "first_pic = x_train[0]\n",
    "print(first_pic)\n",
    "first_pic.shape"
   ]
  },
  {
   "cell_type": "code",
   "execution_count": 10,
   "metadata": {
    "colab": {
     "base_uri": "https://localhost:8080/"
    },
    "id": "edLovntlw9MG",
    "outputId": "e156572a-64ed-4d8d-c6aa-ad1605777687"
   },
   "outputs": [
    {
     "output_type": "stream",
     "name": "stdout",
     "text": [
      "0.0\n"
     ]
    },
    {
     "output_type": "execute_result",
     "data": {
      "text/plain": [
       "1.0"
      ]
     },
     "metadata": {},
     "execution_count": 10
    }
   ],
   "source": [
    "print(first_pic.min())\n",
    "first_pic.max()"
   ]
  },
  {
   "cell_type": "code",
   "execution_count": 13,
   "metadata": {
    "colab": {
     "base_uri": "https://localhost:8080/",
     "height": 300
    },
    "id": "DkfnR8QzqLA8",
    "outputId": "96579d04-ef54-45ed-f842-48d1b3e9ec9a"
   },
   "outputs": [
    {
     "output_type": "stream",
     "name": "stdout",
     "text": [
      "The image at the 0th index is: \n"
     ]
    },
    {
     "output_type": "execute_result",
     "data": {
      "text/plain": [
       "<matplotlib.image.AxesImage at 0x7f3e2309b590>"
      ]
     },
     "metadata": {},
     "execution_count": 13
    },
    {
     "output_type": "display_data",
     "data": {
      "text/plain": [
       "<Figure size 432x288 with 1 Axes>"
      ],
      "image/png": "[encoded data removed]"
     },
     "metadata": {
      "needs_background": "light"
     }
    }
   ],
   "source": [
    "image_num = 0\n",
    "\n",
    "print(f\"The image at the {image_num}th index is: \")\n",
    "plt.imshow(x_train[image_num], cmap=\"Greys_r\")"
   ]
  },
  {
   "cell_type": "code",
   "execution_count": 14,
   "outputs": [
    {
     "output_type": "stream",
     "name": "stdout",
     "text": [
      "[0 1 2 3 4 5 6 7 8 9]\n",
      "6742 5958 6131 5842 5421 5918 6265 5851 5949\n"
     ]
    },
    {
     "output_type": "execute_result",
     "data": {
      "text/plain": [
       "Counter({5: 5421,\n",
       "         0: 5923,\n",
       "         4: 5842,\n",
       "         1: 6742,\n",
       "         9: 5949,\n",
       "         2: 5958,\n",
       "         3: 6131,\n",
       "         6: 5918,\n",
       "         7: 6265,\n",
       "         8: 5851})"
      ]
     },
     "metadata": {},
     "execution_count": 14
    }
   ],
   "source": [
    "zero = 0\n",
    "one = 0\n",
    "two = 0\n",
    "three = 0\n",
    "four = 0\n",
    "five = 0\n",
    "six = 0\n",
    "seven = 0\n",
    "eight = 0\n",
    "nine = 0\n",
    "\n",
    "for i in y_train:\n",
    "    if i == 0:\n",
    "        zero += 1\n",
    "    elif i == 1:\n",
    "        one += 1\n",
    "    elif i == 2:\n",
    "        two += 1\n",
    "    elif i == 3:\n",
    "        three += 1\n",
    "    elif i == 4:\n",
    "        four += 1\n",
    "    elif i == 5:\n",
    "        five += 1\n",
    "    elif i == 6:\n",
    "        six += 1\n",
    "    elif i == 7:\n",
    "        seven += 1\n",
    "    elif i == 8:\n",
    "        eight += 1\n",
    "    elif i == 9:\n",
    "        nine += 1\n",
    "\n",
    "print(np.unique(y_train)) # Can see that all numbers from 0 to 9 is included\n",
    "print(one, two, three, four, five, six, seven, eight, nine)\n",
    "\n",
    "\n",
    "from collections import Counter\n",
    "Counter(y_train)"
   ],
   "metadata": {
    "colab": {
     "base_uri": "https://localhost:8080/"
    },
    "id": "GLjEAi5slIrN",
    "outputId": "76398fc8-6223-4957-d441-ba2aedbc1add"
   }
  },
  {
   "cell_type": "code",
   "execution_count": null,
   "metadata": {
    "id": "nt-mGpl5sGnr"
   },
   "outputs": [],
   "source": [
    "# SKIP THIS\n",
    "import random\n",
    "\n",
    "random_list = [random.uniform(0,1) for i in range(784)]\n",
    "random_array = np.array(random_list)\n",
    "\n",
    "print(f\"{random_array} \\nBefore Reshape: {random_array.shape}\")\n",
    "\n",
    "random_array = random_array.reshape((28,28))\n",
    "print(f\"After Reshaping: {random_array.shape}\")\n",
    "plt.imshow(random_array, cmap='Greys_r')"
   ]
  },
  {
   "cell_type": "markdown",
   "source": [
    "# Building Model"
   ],
   "metadata": {
    "collapsed": false,
    "id": "XH-c4xcOlIrO"
   }
  },
  {
   "cell_type": "code",
   "execution_count": 18,
   "metadata": {
    "colab": {
     "base_uri": "https://localhost:8080/"
    },
    "id": "rQjnGbgSzAza",
    "outputId": "867e2487-b32b-4b69-d12a-25cecc644408"
   },
   "outputs": [
    {
     "output_type": "stream",
     "name": "stdout",
     "text": [
      "Model: \"sequential_1\"\n",
      "_________________________________________________________________\n",
      " Layer (type)                Output Shape              Param #   \n",
      "=================================================================\n",
      " flatten_1 (Flatten)         (None, 784)               0         \n",
      "                                                                 \n",
      " dense_3 (Dense)             (None, 128)               100480    \n",
      "                                                                 \n",
      " dense_4 (Dense)             (None, 128)               16512     \n",
      "                                                                 \n",
      " dense_5 (Dense)             (None, 10)                1290      \n",
      "                                                                 \n",
      "=================================================================\n",
      "Total params: 118,282\n",
      "Trainable params: 118,282\n",
      "Non-trainable params: 0\n",
      "_________________________________________________________________\n"
     ]
    }
   ],
   "source": [
    "import tensorflow as tf\n",
    "from tensorflow.keras.models import Sequential\n",
    "from tensorflow.keras.layers import Flatten, Dense, Conv2D, MaxPooling2D, Dropout\n",
    "\n",
    "mnist = tf.keras.datasets.mnist\n",
    "\n",
    "(x_train, y_train), (x_test, y_test) = mnist.load_data()\n",
    "x_train, x_test = x_train / 255.0, x_test / 255.0\n",
    "\n",
    "# Here is the model\n",
    "model = Sequential([\n",
    "                    Flatten(input_shape=(28, 28)),\n",
    "                    Dense(units = 128, activation=\"sigmoid\"),\n",
    "                    Dense(units = 128, activation=\"sigmoid\"),\n",
    "                    Dense(10, activation = \"sigmoid\")\n",
    "]) # talk about the model.summary details\n",
    "\n",
    "\n",
    "\n",
    "model.summary()"
   ]
  },
  {
   "cell_type": "code",
   "execution_count": null,
   "outputs": [],
   "source": [
    "# More complicated one with more neurons and an extra layer\n",
    "\n",
    "# model = Sequential([\n",
    "#                     Flatten(input_shape=(28, 28)), # fully conv if not flatten, not using cnn, so no way to put all data into dense layer\n",
    "#                     Dense(units = 128, activation=\"relu\"),\n",
    "#                     Dense(units = 128, activation=\"relu\"),\n",
    "#                     Dense(units = 128, activation=\"relu\"),\n",
    "#                     Dense(20, activation = \"softmax\")\n",
    "# ])"
   ],
   "metadata": {
    "id": "HrSzD_GflIrQ"
   }
  },
  {
   "cell_type": "code",
   "execution_count": 19,
   "outputs": [
    {
     "output_type": "stream",
     "name": "stdout",
     "text": [
      "Epoch 1/30\n",
      "118/118 [==============================] - 1s 7ms/step - loss: 1.3422 - accuracy: 0.6994 - val_loss: 0.5949 - val_accuracy: 0.8752\n",
      "Epoch 2/30\n",
      "118/118 [==============================] - 0s 4ms/step - loss: 0.4424 - accuracy: 0.8923 - val_loss: 0.3382 - val_accuracy: 0.9113\n",
      "Epoch 3/30\n",
      "118/118 [==============================] - 0s 4ms/step - loss: 0.3090 - accuracy: 0.9152 - val_loss: 0.2708 - val_accuracy: 0.9241\n",
      "Epoch 4/30\n",
      "118/118 [==============================] - 0s 4ms/step - loss: 0.2585 - accuracy: 0.9267 - val_loss: 0.2361 - val_accuracy: 0.9316\n",
      "Epoch 5/30\n",
      "118/118 [==============================] - 0s 4ms/step - loss: 0.2262 - accuracy: 0.9352 - val_loss: 0.2103 - val_accuracy: 0.9381\n",
      "Epoch 6/30\n",
      "118/118 [==============================] - 0s 4ms/step - loss: 0.2018 - accuracy: 0.9418 - val_loss: 0.1894 - val_accuracy: 0.9434\n",
      "Epoch 7/30\n",
      "118/118 [==============================] - 0s 4ms/step - loss: 0.1806 - accuracy: 0.9480 - val_loss: 0.1720 - val_accuracy: 0.9497\n",
      "Epoch 8/30\n",
      "118/118 [==============================] - 0s 4ms/step - loss: 0.1638 - accuracy: 0.9527 - val_loss: 0.1590 - val_accuracy: 0.9529\n",
      "Epoch 9/30\n",
      "118/118 [==============================] - 0s 4ms/step - loss: 0.1487 - accuracy: 0.9574 - val_loss: 0.1482 - val_accuracy: 0.9563\n",
      "Epoch 10/30\n",
      "118/118 [==============================] - 0s 4ms/step - loss: 0.1360 - accuracy: 0.9609 - val_loss: 0.1375 - val_accuracy: 0.9598\n",
      "Epoch 11/30\n",
      "118/118 [==============================] - 0s 4ms/step - loss: 0.1241 - accuracy: 0.9640 - val_loss: 0.1304 - val_accuracy: 0.9620\n",
      "Epoch 12/30\n",
      "118/118 [==============================] - 0s 4ms/step - loss: 0.1139 - accuracy: 0.9671 - val_loss: 0.1223 - val_accuracy: 0.9641\n",
      "Epoch 13/30\n",
      "118/118 [==============================] - 1s 4ms/step - loss: 0.1047 - accuracy: 0.9698 - val_loss: 0.1146 - val_accuracy: 0.9656\n",
      "Epoch 14/30\n",
      "118/118 [==============================] - 1s 4ms/step - loss: 0.0964 - accuracy: 0.9726 - val_loss: 0.1107 - val_accuracy: 0.9661\n",
      "Epoch 15/30\n",
      "118/118 [==============================] - 1s 4ms/step - loss: 0.0892 - accuracy: 0.9751 - val_loss: 0.1035 - val_accuracy: 0.9680\n",
      "Epoch 16/30\n",
      "118/118 [==============================] - 0s 4ms/step - loss: 0.0823 - accuracy: 0.9769 - val_loss: 0.1027 - val_accuracy: 0.9679\n",
      "Epoch 17/30\n",
      "118/118 [==============================] - 0s 4ms/step - loss: 0.0762 - accuracy: 0.9782 - val_loss: 0.0945 - val_accuracy: 0.9719\n",
      "Epoch 18/30\n",
      "118/118 [==============================] - 0s 4ms/step - loss: 0.0703 - accuracy: 0.9797 - val_loss: 0.0933 - val_accuracy: 0.9720\n",
      "Epoch 19/30\n",
      "118/118 [==============================] - 0s 4ms/step - loss: 0.0651 - accuracy: 0.9818 - val_loss: 0.0908 - val_accuracy: 0.9719\n",
      "Epoch 20/30\n",
      "118/118 [==============================] - 0s 4ms/step - loss: 0.0605 - accuracy: 0.9832 - val_loss: 0.0871 - val_accuracy: 0.9729\n",
      "Epoch 21/30\n",
      "118/118 [==============================] - 0s 4ms/step - loss: 0.0557 - accuracy: 0.9850 - val_loss: 0.0855 - val_accuracy: 0.9731\n",
      "Epoch 22/30\n",
      "118/118 [==============================] - 0s 4ms/step - loss: 0.0517 - accuracy: 0.9862 - val_loss: 0.0831 - val_accuracy: 0.9753\n",
      "Epoch 23/30\n",
      "118/118 [==============================] - 1s 4ms/step - loss: 0.0480 - accuracy: 0.9873 - val_loss: 0.0826 - val_accuracy: 0.9743\n",
      "Epoch 24/30\n",
      "118/118 [==============================] - 0s 4ms/step - loss: 0.0439 - accuracy: 0.9884 - val_loss: 0.0803 - val_accuracy: 0.9749\n",
      "Epoch 25/30\n",
      "118/118 [==============================] - 0s 4ms/step - loss: 0.0408 - accuracy: 0.9895 - val_loss: 0.0793 - val_accuracy: 0.9758\n",
      "Epoch 26/30\n",
      "118/118 [==============================] - 0s 4ms/step - loss: 0.0379 - accuracy: 0.9904 - val_loss: 0.0764 - val_accuracy: 0.9765\n",
      "Epoch 27/30\n",
      "118/118 [==============================] - 0s 4ms/step - loss: 0.0348 - accuracy: 0.9915 - val_loss: 0.0766 - val_accuracy: 0.9759\n",
      "Epoch 28/30\n",
      "118/118 [==============================] - 0s 4ms/step - loss: 0.0322 - accuracy: 0.9922 - val_loss: 0.0758 - val_accuracy: 0.9774\n",
      "Epoch 29/30\n",
      "118/118 [==============================] - 1s 4ms/step - loss: 0.0299 - accuracy: 0.9929 - val_loss: 0.0735 - val_accuracy: 0.9774\n",
      "Epoch 30/30\n",
      "118/118 [==============================] - 0s 4ms/step - loss: 0.0273 - accuracy: 0.9936 - val_loss: 0.0749 - val_accuracy: 0.9767\n"
     ]
    }
   ],
   "source": [
    "model.compile(optimizer='adam', # Optimizes the program, such by what amount does the weights & biases change based on the negative gradients\n",
    "              loss='sparse_categorical_crossentropy', # Our cost function, where we are using something called cross-entropy\n",
    "              metrics=['accuracy'])\n",
    "\n",
    "history = model.fit(x_train, y_train, epochs=30, batch_size=512, validation_data=(x_test, y_test))"
   ],
   "metadata": {
    "colab": {
     "base_uri": "https://localhost:8080/"
    },
    "id": "J-7ggTFilIrR",
    "outputId": "822b3d52-3233-4c2d-9ecc-29651c48ec04"
   }
  },
  {
   "cell_type": "markdown",
   "metadata": {
    "id": "0RYt4GzAY5sg"
   },
   "source": [
    " # Building Another Type of Model"
   ]
  },
  {
   "cell_type": "code",
   "execution_count": null,
   "metadata": {
    "id": "HFaqwrG7gatF",
    "outputId": "801922ba-6316-4da5-be96-6bf0e7577f9b"
   },
   "outputs": [
    {
     "name": "stdout",
     "output_type": "stream",
     "text": [
      "(28, 28)\n",
      "<class 'numpy.ndarray'>\n"
     ]
    }
   ],
   "source": [
    "# Already ran at the very beginning, included it here to separate second model from first\n",
    "\n",
    "import tensorflow as tf\n",
    "import numpy as np\n",
    "import matplotlib.pyplot as plt\n",
    "\n",
    "mnist = tf.keras.datasets.mnist\n",
    "\n",
    "(x_train, y_train), (x_test, y_test) = mnist.load_data()\n",
    "\n",
    "# Scaling the data, so it improves the accuracy of the machine learning model\n",
    "x_train, x_test = x_train / 255.0, x_test / 255.0\n",
    "\n",
    "# x_train_flattened = x_train.reshape(len(x_train), 28*28)\n",
    "# x_test_flattened = x_test.reshape(len(x_test), 28*28)\n",
    "\n",
    "print(x_test[0].shape)"
   ]
  },
  {
   "cell_type": "code",
   "execution_count": null,
   "metadata": {
    "colab": {
     "base_uri": "https://localhost:8080/"
    },
    "id": "F9ULw4-4it8i",
    "outputId": "03463496-d4a7-4c0c-ddd9-65fb8fd8eac4"
   },
   "outputs": [
    {
     "name": "stdout",
     "output_type": "stream",
     "text": [
      "(2,)\n",
      "[[1]\n",
      " [2]]\n",
      "(2, 1)\n"
     ]
    }
   ],
   "source": [
    "a = np.array([1,2])\n",
    "print(a.shape)\n",
    "print(np.expand_dims(a, 1))\n",
    "print(np.expand_dims(a, 1).shape)"
   ]
  },
  {
   "cell_type": "code",
   "execution_count": null,
   "metadata": {
    "id": "KYqvKtjfYvw4",
    "pycharm": {
     "is_executing": true
    }
   },
   "outputs": [],
   "source": [
    "# model = Sequential([\n",
    "#     Conv2D(filters=32, kernel_size=(3, 3), padding=\"same\", activation='relu', input_shape = (28, 28, 1)), # dont need epand dimms after removing the 1\n",
    "#     MaxPooling2D(pool_size = (2, 2)),\n",
    "#     Conv2D(filters=64, kernel_size=(3, 3), padding=\"same\", activation='relu'),\n",
    "#     MaxPooling2D(pool_size = (2, 2)),\n",
    "#     Conv2D(filters=128, kernel_size=(3, 3), padding=\"same\", activation='relu'),\n",
    "#     Flatten(),\n",
    "#     Dropout(0.2),\n",
    "#     Dense(784, activation='relu'),\n",
    "#     Dense(400, activation='relu'),\n",
    "#     Dense(10, activation='sigmoid')\n",
    "# ])\n",
    "#\n",
    "# model.compile(optimizer='adam',\n",
    "#               loss='sparse_categorical_crossentropy',\n",
    "#               metrics=['accuracy'])\n",
    "#\n",
    "# model.summary()\n",
    "#\n",
    "# history = model.fit(np.expand_dims(x_train, 3), y_train, epochs=30, batch_size=512, validation_data=(np.expand_dims(x_test, 3), y_test))"
   ]
  },
  {
   "cell_type": "markdown",
   "source": [
    "# Plotting the data that gathered while training"
   ],
   "metadata": {
    "id": "qY1Ldn1On0ly"
   }
  },
  {
   "cell_type": "code",
   "execution_count": 20,
   "outputs": [
    {
     "output_type": "execute_result",
     "data": {
      "text/plain": [
       "<matplotlib.legend.Legend at 0x7fb240299190>"
      ]
     },
     "metadata": {},
     "execution_count": 20
    },
    {
     "output_type": "display_data",
     "data": {
      "text/plain": [
       "<Figure size 432x288 with 1 Axes>"
      ],
      "image/png": "[encoded data removed]"
     },
     "metadata": {
      "needs_background": "light"
     }
    }
   ],
   "source": [
    "# Plotting\n",
    "\n",
    "plt.plot(history.history['accuracy'], label='accuracy')\n",
    "plt.plot(history.history['val_accuracy'], label = 'val_accuracy')\n",
    "plt.xlabel('Epoch')\n",
    "plt.ylabel('Accuracy')\n",
    "plt.ylim([0, 1])\n",
    "plt.legend(loc='lower right')\n",
    "\n",
    "# 💀💀💀💀💀💀💀💀💀"
   ],
   "metadata": {
    "colab": {
     "base_uri": "https://localhost:8080/",
     "height": 300
    },
    "id": "lLp8Bh5KlIrU",
    "outputId": "661b8056-7163-46dc-f29a-111061c1ede6"
   }
  },
  {
   "cell_type": "markdown",
   "metadata": {
    "id": "QRoFgzuzowgc"
   },
   "source": [
    "# Save and loading the model"
   ]
  },
  {
   "cell_type": "code",
   "execution_count": 6,
   "metadata": {
    "id": "2UG5wy6ipCVy"
   },
   "outputs": [],
   "source": [
    "model.save(\"MNIST.h5\")"
   ]
  },
  {
   "cell_type": "code",
   "execution_count": 7,
   "outputs": [],
   "source": [
    "model = tf.keras.models.load_model('MNIST.h5')"
   ],
   "metadata": {
    "pycharm": {
     "is_executing": true
    },
    "id": "okt98zvslIrV"
   }
  },
  {
   "cell_type": "markdown",
   "metadata": {
    "id": "9IZ8Uc01k8ei"
   },
   "source": [
    "#Prediction"
   ]
  },
  {
   "cell_type": "code",
   "execution_count": 20,
   "outputs": [
    {
     "output_type": "stream",
     "name": "stdout",
     "text": [
      "313/313 [==============================] - 1s 3ms/step - loss: 0.2175 - accuracy: 0.9375\n",
      "\n"
     ]
    }
   ],
   "source": [
    "# Evaluating the accuracy on the \"test\" dataset\n",
    "model.evaluate(np.expand_dims(x_test, 3), y_test)\n",
    "print()"
   ],
   "metadata": {
    "colab": {
     "base_uri": "https://localhost:8080/"
    },
    "id": "-iTitBnMlIrW",
    "outputId": "9010717e-c879-469e-db24-9496c1e2266b"
   }
  },
  {
   "cell_type": "code",
   "execution_count": 8,
   "metadata": {
    "id": "bJlbtnJKk7oy",
    "colab": {
     "base_uri": "https://localhost:8080/",
     "height": 508
    },
    "outputId": "c9fbb138-092d-4227-b4d6-93fa2fac44b5"
   },
   "outputs": [
    {
     "output_type": "stream",
     "name": "stdout",
     "text": [
      "313/313 [==============================] - 1s 1ms/step\n",
      "Prediction for '0': 0.02379000000655651\n",
      "Prediction for '1': 0.8513000011444092\n",
      "Prediction for '2': 0.1888200044631958\n",
      "Prediction for '3': 0.8080999851226807\n",
      "Prediction for '4': 0.020190000534057617\n",
      "Prediction for '5': 0.012029999867081642\n",
      "Prediction for '6': 0.005249999929219484\n",
      "Prediction for '7': 0.9987599849700928\n",
      "Prediction for '8': 0.2546899914741516\n",
      "Prediction for '9': 0.5407800078392029\n",
      " -------------------------------------------------------- \n",
      "The model predicts 7, with a 99.87633228302002% certainty.\n"
     ]
    },
    {
     "output_type": "execute_result",
     "data": {
      "text/plain": [
       "<matplotlib.image.AxesImage at 0x7fb1daf8e610>"
      ]
     },
     "metadata": {},
     "execution_count": 8
    },
    {
     "output_type": "display_data",
     "data": {
      "text/plain": [
       "<Figure size 432x288 with 1 Axes>"
      ],
      "image/png": "[encoded data removed]"
     },
     "metadata": {
      "needs_background": "light"
     }
    }
   ],
   "source": [
    "# Basically runs the entire test set through the model\n",
    "y_predicted = model.predict(np.expand_dims(x_test, 3))\n",
    "\n",
    "# Prints the probability of each number\n",
    "for i in range(len(y_predicted[0])):\n",
    "    print(f\"Prediction for '{i}': {round(y_predicted[0][i], 5)}\")\n",
    " \n",
    "\n",
    "print(\" -------------------------------------------------------- \")\n",
    "\n",
    "print(f\"The model predicts {np.argmax(y_predicted[0])}, with a {y_predicted[0].max() * 100}% certainty.\")\n",
    "\n",
    "plt.imshow(x_test[0], cmap=\"Greys_r\")"
   ]
  },
  {
   "cell_type": "markdown",
   "source": [
    "# Try It Yourself"
   ],
   "metadata": {
    "collapsed": false,
    "id": "cQ-UfCEilIrW"
   }
  },
  {
   "cell_type": "code",
   "execution_count": 1,
   "outputs": [
    {
     "name": "stdout",
     "output_type": "stream",
     "text": [
      "fatal: destination path 'colab_draw' already exists and is not an empty directory.\r\n"
     ]
    }
   ],
   "source": [
    "!git clone https://gist.github.com/8409b3feec20f159d8a50b0a811d3bca.git colab_draw"
   ],
   "metadata": {
    "colab": {
     "base_uri": "https://localhost:8080/"
    },
    "id": "bBu9gYe1lIrW",
    "outputId": "4907c19e-485e-4c42-da07-c3d5c0e5d09a"
   }
  },
  {
   "cell_type": "code",
   "execution_count": 4,
   "outputs": [
    {
     "ename": "ModuleNotFoundError",
     "evalue": "No module named 'google.colab'",
     "output_type": "error",
     "traceback": [
      "\u001B[0;31m---------------------------------------------------------------------------\u001B[0m",
      "\u001B[0;31mModuleNotFoundError\u001B[0m                       Traceback (most recent call last)",
      "File \u001B[0;32m~/PycharmProjects/Jupyter/colab_draw/draw.py:2\u001B[0m\n\u001B[1;32m      1\u001B[0m \u001B[38;5;28;01mfrom\u001B[39;00m \u001B[38;5;21;01mIPython\u001B[39;00m\u001B[38;5;21;01m.\u001B[39;00m\u001B[38;5;21;01mdisplay\u001B[39;00m \u001B[38;5;28;01mimport\u001B[39;00m HTML, Image\n\u001B[0;32m----> 2\u001B[0m \u001B[38;5;28;01mfrom\u001B[39;00m \u001B[38;5;21;01mgoogle\u001B[39;00m\u001B[38;5;21;01m.\u001B[39;00m\u001B[38;5;21;01mcolab\u001B[39;00m\u001B[38;5;21;01m.\u001B[39;00m\u001B[38;5;21;01moutput\u001B[39;00m \u001B[38;5;28;01mimport\u001B[39;00m eval_js\n\u001B[1;32m      3\u001B[0m \u001B[38;5;28;01mfrom\u001B[39;00m \u001B[38;5;21;01mbase64\u001B[39;00m \u001B[38;5;28;01mimport\u001B[39;00m b64decode\n\u001B[1;32m      5\u001B[0m canvas_html \u001B[38;5;241m=\u001B[39m \u001B[38;5;124m\"\"\"\u001B[39m\n\u001B[1;32m      6\u001B[0m \u001B[38;5;124m<canvas width=\u001B[39m\u001B[38;5;132;01m%d\u001B[39;00m\u001B[38;5;124m height=\u001B[39m\u001B[38;5;132;01m%d\u001B[39;00m\u001B[38;5;124m></canvas>\u001B[39m\n\u001B[1;32m      7\u001B[0m \u001B[38;5;124m<button>Finish</button>\u001B[39m\n\u001B[0;32m   (...)\u001B[0m\n\u001B[1;32m     37\u001B[0m \u001B[38;5;124m</script>\u001B[39m\n\u001B[1;32m     38\u001B[0m \u001B[38;5;124m\"\"\"\u001B[39m\n",
      "\u001B[0;31mModuleNotFoundError\u001B[0m: No module named 'google.colab'"
     ]
    },
    {
     "ename": "NameError",
     "evalue": "name 'draw' is not defined",
     "output_type": "error",
     "traceback": [
      "\u001B[0;31m---------------------------------------------------------------------------\u001B[0m",
      "\u001B[0;31mNameError\u001B[0m                                 Traceback (most recent call last)",
      "Cell \u001B[0;32mIn [4], line 3\u001B[0m\n\u001B[1;32m      1\u001B[0m get_ipython()\u001B[38;5;241m.\u001B[39mrun_line_magic(\u001B[38;5;124m'\u001B[39m\u001B[38;5;124mrun\u001B[39m\u001B[38;5;124m'\u001B[39m, \u001B[38;5;124m'\u001B[39m\u001B[38;5;124mcolab_draw/draw.py\u001B[39m\u001B[38;5;124m'\u001B[39m)\n\u001B[0;32m----> 3\u001B[0m draw(filename \u001B[38;5;241m=\u001B[39m \u001B[38;5;124m\"\u001B[39m\u001B[38;5;124m/content/number.png\u001B[39m\u001B[38;5;124m\"\u001B[39m, w\u001B[38;5;241m=\u001B[39m\u001B[38;5;241m400\u001B[39m, h\u001B[38;5;241m=\u001B[39m\u001B[38;5;241m400\u001B[39m, line_width\u001B[38;5;241m=\u001B[39m\u001B[38;5;241m20\u001B[39m)\n",
      "\u001B[0;31mNameError\u001B[0m: name 'draw' is not defined"
     ]
    }
   ],
   "source": [
    "%run /content/colab_draw/draw.py\n",
    "\n",
    "draw(filename = \"/content/number.png\", w=400, h=400, line_width=20)"
   ],
   "metadata": {
    "colab": {
     "base_uri": "https://localhost:8080/",
     "height": 459
    },
    "id": "ktv51gz5lIrW",
    "outputId": "e3a7fc80-0d6c-4d5e-c811-d80be47fa332"
   }
  },
  {
   "cell_type": "code",
   "execution_count": 38,
   "metadata": {
    "colab": {
     "base_uri": "https://localhost:8080/",
     "height": 369
    },
    "id": "q_pnEpXjLYn9",
    "outputId": "c8fe4c49-acde-45ff-b1e0-877b72c6a6f6"
   },
   "outputs": [
    {
     "output_type": "stream",
     "name": "stdout",
     "text": [
      "(1, 28, 28, 1)\n",
      "1/1 [==============================] - 0s 17ms/step\n",
      "[8.4439246e-04 9.6500866e-02 2.0295521e-04 2.7250469e-01 9.3805957e-01\n",
      " 7.6651484e-01 3.4584338e-03 6.6015685e-01 7.2488356e-03 9.7913444e-01]\n",
      "The model predicts 9, with a 97.91344404220581% certainty rate\n"
     ]
    },
    {
     "output_type": "execute_result",
     "data": {
      "text/plain": [
       "<matplotlib.image.AxesImage at 0x7fb1c7cf1bd0>"
      ]
     },
     "metadata": {},
     "execution_count": 38
    },
    {
     "output_type": "display_data",
     "data": {
      "text/plain": [
       "<Figure size 432x288 with 1 Axes>"
      ],
      "image/png": "[encoded data removed]"
     },
     "metadata": {
      "needs_background": "light"
     }
    }
   ],
   "source": [
    "from PIL import Image, ImageOps\n",
    "\n",
    "img = Image.open(\"/content/number.png\")\n",
    "\n",
    "# Removes the alpha channel, because it wouldn't work\n",
    "def remove_transparency(img, bg_colour=(255, 255, 255)):\n",
    "    if img.mode in ('RGBA', 'LA') or (img.mode == 'P' and 'transparency' in img.info):\n",
    "        alpha = img.convert('RGBA').split()[-1]\n",
    "        bg = Image.new(\"RGBA\", img.size, bg_colour + (255,))\n",
    "        bg.paste(img, mask=alpha)\n",
    "        return bg\n",
    "    else:\n",
    "        return img\n",
    "\n",
    "def predict(img):\n",
    "    img = ImageOps.invert(img) # invert image from white to black to black to white\n",
    "    img = img.resize((28,28))\n",
    "    img_array = np.array(img) / 255 # Recall, we need to normalize to get best results\n",
    "    img_array = np.expand_dims(img_array, axis=0)\n",
    "    img_array = np.expand_dims(img_array, axis=3)\n",
    "    print(img_array.shape) # (1, 28, 28, 1) (batch, width, height, rgb)\n",
    "    y_pred = model.predict(img_array)\n",
    "    return y_pred\n",
    "\n",
    "remove_transparency(img=Image.open(\"number.png\")).save(\"number.png\")\n",
    "img = Image.open(\"number.png\")\n",
    "img = img.convert(\"L\") # Makes the image black and white\n",
    "\n",
    "image = plt.imread(\"number.png\")\n",
    "plt.imshow(image)\n",
    "y_pred = predict(img)\n",
    "\n",
    "print(*y_pred)\n",
    "print(f\"The model predicts {np.argmax(y_pred)}, with a {y_pred.max() * 100}% certainty rate\")\n",
    "\n",
    "plt.imshow(img, cmap=\"Greys_r\")\n",
    "plt.imshow(img.resize((28, 28)), cmap=\"Greys_r\")\n",
    "\n",
    "# y_predicted = model.predict(np.expand_dims(img, 3))\n",
    "# print(y_predicted[0])"
   ]
  }
 ],
 "metadata": {
  "accelerator": "GPU",
  "colab": {
   "collapsed_sections": [],
   "provenance": []
  },
  "kernelspec": {
   "display_name": "Python 3 (ipykernel)",
   "language": "python",
   "name": "python3"
  },
  "vscode": {
   "interpreter": {
    "hash": "5087ff509e6633349df358007c55232fa318767ef4dd0f65247efad137191a73"
   }
  }
 },
 "nbformat": 4,
 "nbformat_minor": 0
}
